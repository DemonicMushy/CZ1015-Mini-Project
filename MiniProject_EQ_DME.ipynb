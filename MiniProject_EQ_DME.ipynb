{
  "nbformat": 4,
  "nbformat_minor": 0,
  "metadata": {
    "colab": {
      "name": "MiniProject_EQ_DME.ipynb",
      "provenance": [],
      "collapsed_sections": []
    },
    "kernelspec": {
      "name": "python3",
      "display_name": "Python 3"
    }
  },
  "cells": [
    {
      "cell_type": "code",
      "metadata": {
        "id": "_CKu9e6EagV5",
        "colab_type": "code",
        "outputId": "cbc9ae72-b58d-4cac-bfa7-750967db1c60",
        "colab": {
          "base_uri": "https://localhost:8080/",
          "height": 71
        }
      },
      "source": [
        "# Basic Libraries\n",
        "# Testing dsadd \n",
        "import numpy as np\n",
        "import pandas as pd\n",
        "import seaborn as sb\n",
        "import matplotlib.pyplot as plt # we only need pyplot\n",
        "sb.set() # set the default Seaborn style for graphics"
      ],
      "execution_count": 0,
      "outputs": [
        {
          "output_type": "stream",
          "text": [
            "/usr/local/lib/python3.6/dist-packages/statsmodels/tools/_testing.py:19: FutureWarning: pandas.util.testing is deprecated. Use the functions in the public API at pandas.testing instead.\n",
            "  import pandas.util.testing as tm\n"
          ],
          "name": "stderr"
        }
      ]
    },
    {
      "cell_type": "code",
      "metadata": {
        "id": "gBWBTUCHatMn",
        "colab_type": "code",
        "colab": {}
      },
      "source": [
        "trainLabel = pd.read_csv(\"train_labels.csv\")"
      ],
      "execution_count": 0,
      "outputs": []
    },
    {
      "cell_type": "code",
      "metadata": {
        "id": "_3ZMDw8Dp0sr",
        "colab_type": "code",
        "colab": {}
      },
      "source": [
        "# import while changing the dtypes of certain columns\n",
        "trainValue = pd.read_csv(\"train_values.csv\",\n",
        "                          dtype={\n",
        "                            'land_surface_condition': 'category',\n",
        "                            'foundation_type': 'category',\n",
        "                            'roof_type': 'category',\n",
        "                            'ground_floor_type': 'category',\n",
        "                            'other_floor_type': 'category',\n",
        "                            'position': 'category',\n",
        "                            'plan_configuration': 'category',\n",
        "                            'has_superstructure_adobe_mud': 'bool',\n",
        "                            'has_superstructure_mud_mortar_stone': 'bool',\n",
        "                            'has_superstructure_stone_flag': 'bool',\n",
        "                            'has_superstructure_cement_mortar_stone': 'bool',\n",
        "                            'has_superstructure_mud_mortar_brick': 'bool',\n",
        "                            'has_superstructure_cement_mortar_brick': 'bool',\n",
        "                            'has_superstructure_timber': 'bool',\n",
        "                            'has_superstructure_bamboo': 'bool',\n",
        "                            'has_superstructure_rc_non_engineered': 'bool',\n",
        "                            'has_superstructure_rc_engineered': 'bool',\n",
        "                            'has_superstructure_other': 'bool',\n",
        "                            'legal_ownership_status': 'category',\n",
        "                            'has_secondary_use': 'bool',\n",
        "                            'has_secondary_use_agriculture': 'bool',\n",
        "                            'has_secondary_use_hotel': 'bool',\n",
        "                            'has_secondary_use_rental': 'bool',\n",
        "                            'has_secondary_use_institution': 'bool',\n",
        "                            'has_secondary_use_school': 'bool',\n",
        "                            'has_secondary_use_industry': 'bool',\n",
        "                            'has_secondary_use_health_post': 'bool',\n",
        "                            'has_secondary_use_gov_office': 'bool',\n",
        "                            'has_secondary_use_use_police': 'bool',\n",
        "                            'has_secondary_use_other': 'bool'\n",
        "                          })"
      ],
      "execution_count": 0,
      "outputs": []
    },
    {
      "cell_type": "code",
      "metadata": {
        "id": "-bLh6XCXq-TB",
        "colab_type": "code",
        "colab": {}
      },
      "source": [
        "testValue = pd.read_csv(\"test_values.csv\",\n",
        "                          dtype={\n",
        "                            'land_surface_condition': 'category',\n",
        "                            'foundation_type': 'category',\n",
        "                            'roof_type': 'category',\n",
        "                            'ground_floor_type': 'category',\n",
        "                            'other_floor_type': 'category',\n",
        "                            'position': 'category',\n",
        "                            'plan_configuration': 'category',\n",
        "                            'has_superstructure_adobe_mud': 'bool',\n",
        "                            'has_superstructure_mud_mortar_stone': 'bool',\n",
        "                            'has_superstructure_stone_flag': 'bool',\n",
        "                            'has_superstructure_cement_mortar_stone': 'bool',\n",
        "                            'has_superstructure_mud_mortar_brick': 'bool',\n",
        "                            'has_superstructure_cement_mortar_brick': 'bool',\n",
        "                            'has_superstructure_timber': 'bool',\n",
        "                            'has_superstructure_bamboo': 'bool',\n",
        "                            'has_superstructure_rc_non_engineered': 'bool',\n",
        "                            'has_superstructure_rc_engineered': 'bool',\n",
        "                            'has_superstructure_other': 'bool',\n",
        "                            'legal_ownership_status': 'category',\n",
        "                            'has_secondary_use': 'bool',\n",
        "                            'has_secondary_use_agriculture': 'bool',\n",
        "                            'has_secondary_use_hotel': 'bool',\n",
        "                            'has_secondary_use_rental': 'bool',\n",
        "                            'has_secondary_use_institution': 'bool',\n",
        "                            'has_secondary_use_school': 'bool',\n",
        "                            'has_secondary_use_industry': 'bool',\n",
        "                            'has_secondary_use_health_post': 'bool',\n",
        "                            'has_secondary_use_gov_office': 'bool',\n",
        "                            'has_secondary_use_use_police': 'bool',\n",
        "                            'has_secondary_use_other': 'bool'\n",
        "                          })"
      ],
      "execution_count": 0,
      "outputs": []
    },
    {
      "cell_type": "code",
      "metadata": {
        "id": "5kQU2Mon0d0y",
        "colab_type": "code",
        "colab": {}
      },
      "source": [
        "# change the index of the dataframes to be building_id\n",
        "trainValue.set_index('building_id', inplace=True)\n",
        "testValue.set_index('building_id', inplace=True)\n",
        "trainLabel.set_index('building_id', inplace=True)"
      ],
      "execution_count": 0,
      "outputs": []
    },
    {
      "cell_type": "code",
      "metadata": {
        "id": "IWQcuIH30vAo",
        "colab_type": "code",
        "colab": {}
      },
      "source": [
        "# resort the dataframes by their new index\n",
        "trainValue.sort_index(inplace=True)\n",
        "testValue.sort_index(inplace=True)\n",
        "trainLabel.sort_index(inplace=True)"
      ],
      "execution_count": 0,
      "outputs": []
    },
    {
      "cell_type": "code",
      "metadata": {
        "id": "5QuVBWgwqChL",
        "colab_type": "code",
        "outputId": "3aff0471-aa97-40b4-840a-3b6293f32610",
        "colab": {
          "base_uri": "https://localhost:8080/",
          "height": 782
        }
      },
      "source": [
        "trainValue.info()"
      ],
      "execution_count": 0,
      "outputs": [
        {
          "output_type": "stream",
          "text": [
            "<class 'pandas.core.frame.DataFrame'>\n",
            "Int64Index: 260601 entries, 4 to 1052934\n",
            "Data columns (total 38 columns):\n",
            " #   Column                                  Non-Null Count   Dtype   \n",
            "---  ------                                  --------------   -----   \n",
            " 0   geo_level_1_id                          260601 non-null  int64   \n",
            " 1   geo_level_2_id                          260601 non-null  int64   \n",
            " 2   geo_level_3_id                          260601 non-null  int64   \n",
            " 3   count_floors_pre_eq                     260601 non-null  int64   \n",
            " 4   age                                     260601 non-null  int64   \n",
            " 5   area_percentage                         260601 non-null  int64   \n",
            " 6   height_percentage                       260601 non-null  int64   \n",
            " 7   land_surface_condition                  260601 non-null  category\n",
            " 8   foundation_type                         260601 non-null  category\n",
            " 9   roof_type                               260601 non-null  category\n",
            " 10  ground_floor_type                       260601 non-null  category\n",
            " 11  other_floor_type                        260601 non-null  category\n",
            " 12  position                                260601 non-null  category\n",
            " 13  plan_configuration                      260601 non-null  category\n",
            " 14  has_superstructure_adobe_mud            260601 non-null  bool    \n",
            " 15  has_superstructure_mud_mortar_stone     260601 non-null  bool    \n",
            " 16  has_superstructure_stone_flag           260601 non-null  bool    \n",
            " 17  has_superstructure_cement_mortar_stone  260601 non-null  bool    \n",
            " 18  has_superstructure_mud_mortar_brick     260601 non-null  bool    \n",
            " 19  has_superstructure_cement_mortar_brick  260601 non-null  bool    \n",
            " 20  has_superstructure_timber               260601 non-null  bool    \n",
            " 21  has_superstructure_bamboo               260601 non-null  bool    \n",
            " 22  has_superstructure_rc_non_engineered    260601 non-null  bool    \n",
            " 23  has_superstructure_rc_engineered        260601 non-null  bool    \n",
            " 24  has_superstructure_other                260601 non-null  bool    \n",
            " 25  legal_ownership_status                  260601 non-null  category\n",
            " 26  count_families                          260601 non-null  int64   \n",
            " 27  has_secondary_use                       260601 non-null  bool    \n",
            " 28  has_secondary_use_agriculture           260601 non-null  bool    \n",
            " 29  has_secondary_use_hotel                 260601 non-null  bool    \n",
            " 30  has_secondary_use_rental                260601 non-null  bool    \n",
            " 31  has_secondary_use_institution           260601 non-null  bool    \n",
            " 32  has_secondary_use_school                260601 non-null  bool    \n",
            " 33  has_secondary_use_industry              260601 non-null  bool    \n",
            " 34  has_secondary_use_health_post           260601 non-null  bool    \n",
            " 35  has_secondary_use_gov_office            260601 non-null  bool    \n",
            " 36  has_secondary_use_use_police            260601 non-null  bool    \n",
            " 37  has_secondary_use_other                 260601 non-null  bool    \n",
            "dtypes: bool(22), category(8), int64(8)\n",
            "memory usage: 25.4 MB\n"
          ],
          "name": "stdout"
        }
      ]
    },
    {
      "cell_type": "code",
      "metadata": {
        "id": "j9gxHwLK1Cqf",
        "colab_type": "code",
        "outputId": "efd64617-62ff-442c-b608-3f10759af29e",
        "colab": {
          "base_uri": "https://localhost:8080/",
          "height": 153
        }
      },
      "source": [
        "trainLabel.info()"
      ],
      "execution_count": 0,
      "outputs": [
        {
          "output_type": "stream",
          "text": [
            "<class 'pandas.core.frame.DataFrame'>\n",
            "Int64Index: 260601 entries, 4 to 1052934\n",
            "Data columns (total 1 columns):\n",
            " #   Column        Non-Null Count   Dtype\n",
            "---  ------        --------------   -----\n",
            " 0   damage_grade  260601 non-null  int64\n",
            "dtypes: int64(1)\n",
            "memory usage: 4.0 MB\n"
          ],
          "name": "stdout"
        }
      ]
    },
    {
      "cell_type": "code",
      "metadata": {
        "id": "mNwF3-Aq1C1c",
        "colab_type": "code",
        "outputId": "718d8834-0e37-4e6d-d8af-5f37c4aa4664",
        "colab": {
          "base_uri": "https://localhost:8080/",
          "height": 782
        }
      },
      "source": [
        "testValue.info()"
      ],
      "execution_count": 0,
      "outputs": [
        {
          "output_type": "stream",
          "text": [
            "<class 'pandas.core.frame.DataFrame'>\n",
            "Int64Index: 86868 entries, 7 to 1052923\n",
            "Data columns (total 38 columns):\n",
            " #   Column                                  Non-Null Count  Dtype   \n",
            "---  ------                                  --------------  -----   \n",
            " 0   geo_level_1_id                          86868 non-null  int64   \n",
            " 1   geo_level_2_id                          86868 non-null  int64   \n",
            " 2   geo_level_3_id                          86868 non-null  int64   \n",
            " 3   count_floors_pre_eq                     86868 non-null  int64   \n",
            " 4   age                                     86868 non-null  int64   \n",
            " 5   area_percentage                         86868 non-null  int64   \n",
            " 6   height_percentage                       86868 non-null  int64   \n",
            " 7   land_surface_condition                  86868 non-null  category\n",
            " 8   foundation_type                         86868 non-null  category\n",
            " 9   roof_type                               86868 non-null  category\n",
            " 10  ground_floor_type                       86868 non-null  category\n",
            " 11  other_floor_type                        86868 non-null  category\n",
            " 12  position                                86868 non-null  category\n",
            " 13  plan_configuration                      86868 non-null  category\n",
            " 14  has_superstructure_adobe_mud            86868 non-null  bool    \n",
            " 15  has_superstructure_mud_mortar_stone     86868 non-null  bool    \n",
            " 16  has_superstructure_stone_flag           86868 non-null  bool    \n",
            " 17  has_superstructure_cement_mortar_stone  86868 non-null  bool    \n",
            " 18  has_superstructure_mud_mortar_brick     86868 non-null  bool    \n",
            " 19  has_superstructure_cement_mortar_brick  86868 non-null  bool    \n",
            " 20  has_superstructure_timber               86868 non-null  bool    \n",
            " 21  has_superstructure_bamboo               86868 non-null  bool    \n",
            " 22  has_superstructure_rc_non_engineered    86868 non-null  bool    \n",
            " 23  has_superstructure_rc_engineered        86868 non-null  bool    \n",
            " 24  has_superstructure_other                86868 non-null  bool    \n",
            " 25  legal_ownership_status                  86868 non-null  category\n",
            " 26  count_families                          86868 non-null  int64   \n",
            " 27  has_secondary_use                       86868 non-null  bool    \n",
            " 28  has_secondary_use_agriculture           86868 non-null  bool    \n",
            " 29  has_secondary_use_hotel                 86868 non-null  bool    \n",
            " 30  has_secondary_use_rental                86868 non-null  bool    \n",
            " 31  has_secondary_use_institution           86868 non-null  bool    \n",
            " 32  has_secondary_use_school                86868 non-null  bool    \n",
            " 33  has_secondary_use_industry              86868 non-null  bool    \n",
            " 34  has_secondary_use_health_post           86868 non-null  bool    \n",
            " 35  has_secondary_use_gov_office            86868 non-null  bool    \n",
            " 36  has_secondary_use_use_police            86868 non-null  bool    \n",
            " 37  has_secondary_use_other                 86868 non-null  bool    \n",
            "dtypes: bool(22), category(8), int64(8)\n",
            "memory usage: 8.5 MB\n"
          ],
          "name": "stdout"
        }
      ]
    },
    {
      "cell_type": "code",
      "metadata": {
        "id": "hNq3X72d1DBG",
        "colab_type": "code",
        "outputId": "a6fb43d4-f38a-4342-8dd2-d16dbd894199",
        "colab": {
          "base_uri": "https://localhost:8080/",
          "height": 255
        }
      },
      "source": [
        "trainValue.head()"
      ],
      "execution_count": 0,
      "outputs": [
        {
          "output_type": "execute_result",
          "data": {
            "text/html": [
              "<div>\n",
              "<style scoped>\n",
              "    .dataframe tbody tr th:only-of-type {\n",
              "        vertical-align: middle;\n",
              "    }\n",
              "\n",
              "    .dataframe tbody tr th {\n",
              "        vertical-align: top;\n",
              "    }\n",
              "\n",
              "    .dataframe thead th {\n",
              "        text-align: right;\n",
              "    }\n",
              "</style>\n",
              "<table border=\"1\" class=\"dataframe\">\n",
              "  <thead>\n",
              "    <tr style=\"text-align: right;\">\n",
              "      <th></th>\n",
              "      <th>geo_level_1_id</th>\n",
              "      <th>geo_level_2_id</th>\n",
              "      <th>geo_level_3_id</th>\n",
              "      <th>count_floors_pre_eq</th>\n",
              "      <th>age</th>\n",
              "      <th>area_percentage</th>\n",
              "      <th>height_percentage</th>\n",
              "      <th>land_surface_condition</th>\n",
              "      <th>foundation_type</th>\n",
              "      <th>roof_type</th>\n",
              "      <th>ground_floor_type</th>\n",
              "      <th>other_floor_type</th>\n",
              "      <th>position</th>\n",
              "      <th>plan_configuration</th>\n",
              "      <th>has_superstructure_adobe_mud</th>\n",
              "      <th>has_superstructure_mud_mortar_stone</th>\n",
              "      <th>has_superstructure_stone_flag</th>\n",
              "      <th>has_superstructure_cement_mortar_stone</th>\n",
              "      <th>has_superstructure_mud_mortar_brick</th>\n",
              "      <th>has_superstructure_cement_mortar_brick</th>\n",
              "      <th>has_superstructure_timber</th>\n",
              "      <th>has_superstructure_bamboo</th>\n",
              "      <th>has_superstructure_rc_non_engineered</th>\n",
              "      <th>has_superstructure_rc_engineered</th>\n",
              "      <th>has_superstructure_other</th>\n",
              "      <th>legal_ownership_status</th>\n",
              "      <th>count_families</th>\n",
              "      <th>has_secondary_use</th>\n",
              "      <th>has_secondary_use_agriculture</th>\n",
              "      <th>has_secondary_use_hotel</th>\n",
              "      <th>has_secondary_use_rental</th>\n",
              "      <th>has_secondary_use_institution</th>\n",
              "      <th>has_secondary_use_school</th>\n",
              "      <th>has_secondary_use_industry</th>\n",
              "      <th>has_secondary_use_health_post</th>\n",
              "      <th>has_secondary_use_gov_office</th>\n",
              "      <th>has_secondary_use_use_police</th>\n",
              "      <th>has_secondary_use_other</th>\n",
              "    </tr>\n",
              "    <tr>\n",
              "      <th>building_id</th>\n",
              "      <th></th>\n",
              "      <th></th>\n",
              "      <th></th>\n",
              "      <th></th>\n",
              "      <th></th>\n",
              "      <th></th>\n",
              "      <th></th>\n",
              "      <th></th>\n",
              "      <th></th>\n",
              "      <th></th>\n",
              "      <th></th>\n",
              "      <th></th>\n",
              "      <th></th>\n",
              "      <th></th>\n",
              "      <th></th>\n",
              "      <th></th>\n",
              "      <th></th>\n",
              "      <th></th>\n",
              "      <th></th>\n",
              "      <th></th>\n",
              "      <th></th>\n",
              "      <th></th>\n",
              "      <th></th>\n",
              "      <th></th>\n",
              "      <th></th>\n",
              "      <th></th>\n",
              "      <th></th>\n",
              "      <th></th>\n",
              "      <th></th>\n",
              "      <th></th>\n",
              "      <th></th>\n",
              "      <th></th>\n",
              "      <th></th>\n",
              "      <th></th>\n",
              "      <th></th>\n",
              "      <th></th>\n",
              "      <th></th>\n",
              "      <th></th>\n",
              "    </tr>\n",
              "  </thead>\n",
              "  <tbody>\n",
              "    <tr>\n",
              "      <th>4</th>\n",
              "      <td>30</td>\n",
              "      <td>266</td>\n",
              "      <td>1224</td>\n",
              "      <td>1</td>\n",
              "      <td>25</td>\n",
              "      <td>5</td>\n",
              "      <td>2</td>\n",
              "      <td>t</td>\n",
              "      <td>r</td>\n",
              "      <td>n</td>\n",
              "      <td>f</td>\n",
              "      <td>j</td>\n",
              "      <td>s</td>\n",
              "      <td>d</td>\n",
              "      <td>False</td>\n",
              "      <td>True</td>\n",
              "      <td>False</td>\n",
              "      <td>False</td>\n",
              "      <td>False</td>\n",
              "      <td>False</td>\n",
              "      <td>False</td>\n",
              "      <td>False</td>\n",
              "      <td>False</td>\n",
              "      <td>False</td>\n",
              "      <td>False</td>\n",
              "      <td>v</td>\n",
              "      <td>0</td>\n",
              "      <td>False</td>\n",
              "      <td>False</td>\n",
              "      <td>False</td>\n",
              "      <td>False</td>\n",
              "      <td>False</td>\n",
              "      <td>False</td>\n",
              "      <td>False</td>\n",
              "      <td>False</td>\n",
              "      <td>False</td>\n",
              "      <td>False</td>\n",
              "      <td>False</td>\n",
              "    </tr>\n",
              "    <tr>\n",
              "      <th>8</th>\n",
              "      <td>17</td>\n",
              "      <td>409</td>\n",
              "      <td>12182</td>\n",
              "      <td>2</td>\n",
              "      <td>0</td>\n",
              "      <td>13</td>\n",
              "      <td>7</td>\n",
              "      <td>t</td>\n",
              "      <td>r</td>\n",
              "      <td>n</td>\n",
              "      <td>f</td>\n",
              "      <td>q</td>\n",
              "      <td>s</td>\n",
              "      <td>d</td>\n",
              "      <td>False</td>\n",
              "      <td>True</td>\n",
              "      <td>False</td>\n",
              "      <td>False</td>\n",
              "      <td>False</td>\n",
              "      <td>False</td>\n",
              "      <td>False</td>\n",
              "      <td>False</td>\n",
              "      <td>False</td>\n",
              "      <td>False</td>\n",
              "      <td>False</td>\n",
              "      <td>v</td>\n",
              "      <td>1</td>\n",
              "      <td>False</td>\n",
              "      <td>False</td>\n",
              "      <td>False</td>\n",
              "      <td>False</td>\n",
              "      <td>False</td>\n",
              "      <td>False</td>\n",
              "      <td>False</td>\n",
              "      <td>False</td>\n",
              "      <td>False</td>\n",
              "      <td>False</td>\n",
              "      <td>False</td>\n",
              "    </tr>\n",
              "    <tr>\n",
              "      <th>12</th>\n",
              "      <td>17</td>\n",
              "      <td>716</td>\n",
              "      <td>7056</td>\n",
              "      <td>2</td>\n",
              "      <td>5</td>\n",
              "      <td>12</td>\n",
              "      <td>6</td>\n",
              "      <td>o</td>\n",
              "      <td>r</td>\n",
              "      <td>q</td>\n",
              "      <td>f</td>\n",
              "      <td>q</td>\n",
              "      <td>s</td>\n",
              "      <td>d</td>\n",
              "      <td>False</td>\n",
              "      <td>True</td>\n",
              "      <td>False</td>\n",
              "      <td>False</td>\n",
              "      <td>False</td>\n",
              "      <td>False</td>\n",
              "      <td>False</td>\n",
              "      <td>False</td>\n",
              "      <td>False</td>\n",
              "      <td>False</td>\n",
              "      <td>False</td>\n",
              "      <td>v</td>\n",
              "      <td>1</td>\n",
              "      <td>False</td>\n",
              "      <td>False</td>\n",
              "      <td>False</td>\n",
              "      <td>False</td>\n",
              "      <td>False</td>\n",
              "      <td>False</td>\n",
              "      <td>False</td>\n",
              "      <td>False</td>\n",
              "      <td>False</td>\n",
              "      <td>False</td>\n",
              "      <td>False</td>\n",
              "    </tr>\n",
              "    <tr>\n",
              "      <th>16</th>\n",
              "      <td>4</td>\n",
              "      <td>651</td>\n",
              "      <td>105</td>\n",
              "      <td>2</td>\n",
              "      <td>80</td>\n",
              "      <td>5</td>\n",
              "      <td>4</td>\n",
              "      <td>n</td>\n",
              "      <td>r</td>\n",
              "      <td>n</td>\n",
              "      <td>f</td>\n",
              "      <td>q</td>\n",
              "      <td>s</td>\n",
              "      <td>d</td>\n",
              "      <td>False</td>\n",
              "      <td>True</td>\n",
              "      <td>False</td>\n",
              "      <td>False</td>\n",
              "      <td>False</td>\n",
              "      <td>False</td>\n",
              "      <td>False</td>\n",
              "      <td>False</td>\n",
              "      <td>False</td>\n",
              "      <td>False</td>\n",
              "      <td>False</td>\n",
              "      <td>v</td>\n",
              "      <td>1</td>\n",
              "      <td>False</td>\n",
              "      <td>False</td>\n",
              "      <td>False</td>\n",
              "      <td>False</td>\n",
              "      <td>False</td>\n",
              "      <td>False</td>\n",
              "      <td>False</td>\n",
              "      <td>False</td>\n",
              "      <td>False</td>\n",
              "      <td>False</td>\n",
              "      <td>False</td>\n",
              "    </tr>\n",
              "    <tr>\n",
              "      <th>17</th>\n",
              "      <td>3</td>\n",
              "      <td>1387</td>\n",
              "      <td>3909</td>\n",
              "      <td>5</td>\n",
              "      <td>40</td>\n",
              "      <td>5</td>\n",
              "      <td>10</td>\n",
              "      <td>t</td>\n",
              "      <td>r</td>\n",
              "      <td>n</td>\n",
              "      <td>f</td>\n",
              "      <td>q</td>\n",
              "      <td>o</td>\n",
              "      <td>d</td>\n",
              "      <td>False</td>\n",
              "      <td>False</td>\n",
              "      <td>False</td>\n",
              "      <td>False</td>\n",
              "      <td>True</td>\n",
              "      <td>False</td>\n",
              "      <td>False</td>\n",
              "      <td>False</td>\n",
              "      <td>False</td>\n",
              "      <td>False</td>\n",
              "      <td>False</td>\n",
              "      <td>v</td>\n",
              "      <td>1</td>\n",
              "      <td>False</td>\n",
              "      <td>False</td>\n",
              "      <td>False</td>\n",
              "      <td>False</td>\n",
              "      <td>False</td>\n",
              "      <td>False</td>\n",
              "      <td>False</td>\n",
              "      <td>False</td>\n",
              "      <td>False</td>\n",
              "      <td>False</td>\n",
              "      <td>False</td>\n",
              "    </tr>\n",
              "  </tbody>\n",
              "</table>\n",
              "</div>"
            ],
            "text/plain": [
              "             geo_level_1_id  ...  has_secondary_use_other\n",
              "building_id                  ...                         \n",
              "4                        30  ...                    False\n",
              "8                        17  ...                    False\n",
              "12                       17  ...                    False\n",
              "16                        4  ...                    False\n",
              "17                        3  ...                    False\n",
              "\n",
              "[5 rows x 38 columns]"
            ]
          },
          "metadata": {
            "tags": []
          },
          "execution_count": 21
        }
      ]
    },
    {
      "cell_type": "code",
      "metadata": {
        "id": "rjFFhbgI1DdH",
        "colab_type": "code",
        "outputId": "dee7ff28-1561-463b-fa8d-2a156495723d",
        "colab": {
          "base_uri": "https://localhost:8080/",
          "height": 235
        }
      },
      "source": [
        "trainLabel.head()"
      ],
      "execution_count": 0,
      "outputs": [
        {
          "output_type": "execute_result",
          "data": {
            "text/html": [
              "<div>\n",
              "<style scoped>\n",
              "    .dataframe tbody tr th:only-of-type {\n",
              "        vertical-align: middle;\n",
              "    }\n",
              "\n",
              "    .dataframe tbody tr th {\n",
              "        vertical-align: top;\n",
              "    }\n",
              "\n",
              "    .dataframe thead th {\n",
              "        text-align: right;\n",
              "    }\n",
              "</style>\n",
              "<table border=\"1\" class=\"dataframe\">\n",
              "  <thead>\n",
              "    <tr style=\"text-align: right;\">\n",
              "      <th></th>\n",
              "      <th>damage_grade</th>\n",
              "    </tr>\n",
              "    <tr>\n",
              "      <th>building_id</th>\n",
              "      <th></th>\n",
              "    </tr>\n",
              "  </thead>\n",
              "  <tbody>\n",
              "    <tr>\n",
              "      <th>4</th>\n",
              "      <td>2</td>\n",
              "    </tr>\n",
              "    <tr>\n",
              "      <th>8</th>\n",
              "      <td>3</td>\n",
              "    </tr>\n",
              "    <tr>\n",
              "      <th>12</th>\n",
              "      <td>3</td>\n",
              "    </tr>\n",
              "    <tr>\n",
              "      <th>16</th>\n",
              "      <td>2</td>\n",
              "    </tr>\n",
              "    <tr>\n",
              "      <th>17</th>\n",
              "      <td>2</td>\n",
              "    </tr>\n",
              "  </tbody>\n",
              "</table>\n",
              "</div>"
            ],
            "text/plain": [
              "             damage_grade\n",
              "building_id              \n",
              "4                       2\n",
              "8                       3\n",
              "12                      3\n",
              "16                      2\n",
              "17                      2"
            ]
          },
          "metadata": {
            "tags": []
          },
          "execution_count": 22
        }
      ]
    },
    {
      "cell_type": "code",
      "metadata": {
        "id": "OceDJv4S1DlT",
        "colab_type": "code",
        "outputId": "c6a0c57d-f787-4130-eac9-676998c4b0e1",
        "colab": {
          "base_uri": "https://localhost:8080/",
          "height": 255
        }
      },
      "source": [
        "testValue.head()"
      ],
      "execution_count": 0,
      "outputs": [
        {
          "output_type": "execute_result",
          "data": {
            "text/html": [
              "<div>\n",
              "<style scoped>\n",
              "    .dataframe tbody tr th:only-of-type {\n",
              "        vertical-align: middle;\n",
              "    }\n",
              "\n",
              "    .dataframe tbody tr th {\n",
              "        vertical-align: top;\n",
              "    }\n",
              "\n",
              "    .dataframe thead th {\n",
              "        text-align: right;\n",
              "    }\n",
              "</style>\n",
              "<table border=\"1\" class=\"dataframe\">\n",
              "  <thead>\n",
              "    <tr style=\"text-align: right;\">\n",
              "      <th></th>\n",
              "      <th>geo_level_1_id</th>\n",
              "      <th>geo_level_2_id</th>\n",
              "      <th>geo_level_3_id</th>\n",
              "      <th>count_floors_pre_eq</th>\n",
              "      <th>age</th>\n",
              "      <th>area_percentage</th>\n",
              "      <th>height_percentage</th>\n",
              "      <th>land_surface_condition</th>\n",
              "      <th>foundation_type</th>\n",
              "      <th>roof_type</th>\n",
              "      <th>ground_floor_type</th>\n",
              "      <th>other_floor_type</th>\n",
              "      <th>position</th>\n",
              "      <th>plan_configuration</th>\n",
              "      <th>has_superstructure_adobe_mud</th>\n",
              "      <th>has_superstructure_mud_mortar_stone</th>\n",
              "      <th>has_superstructure_stone_flag</th>\n",
              "      <th>has_superstructure_cement_mortar_stone</th>\n",
              "      <th>has_superstructure_mud_mortar_brick</th>\n",
              "      <th>has_superstructure_cement_mortar_brick</th>\n",
              "      <th>has_superstructure_timber</th>\n",
              "      <th>has_superstructure_bamboo</th>\n",
              "      <th>has_superstructure_rc_non_engineered</th>\n",
              "      <th>has_superstructure_rc_engineered</th>\n",
              "      <th>has_superstructure_other</th>\n",
              "      <th>legal_ownership_status</th>\n",
              "      <th>count_families</th>\n",
              "      <th>has_secondary_use</th>\n",
              "      <th>has_secondary_use_agriculture</th>\n",
              "      <th>has_secondary_use_hotel</th>\n",
              "      <th>has_secondary_use_rental</th>\n",
              "      <th>has_secondary_use_institution</th>\n",
              "      <th>has_secondary_use_school</th>\n",
              "      <th>has_secondary_use_industry</th>\n",
              "      <th>has_secondary_use_health_post</th>\n",
              "      <th>has_secondary_use_gov_office</th>\n",
              "      <th>has_secondary_use_use_police</th>\n",
              "      <th>has_secondary_use_other</th>\n",
              "    </tr>\n",
              "    <tr>\n",
              "      <th>building_id</th>\n",
              "      <th></th>\n",
              "      <th></th>\n",
              "      <th></th>\n",
              "      <th></th>\n",
              "      <th></th>\n",
              "      <th></th>\n",
              "      <th></th>\n",
              "      <th></th>\n",
              "      <th></th>\n",
              "      <th></th>\n",
              "      <th></th>\n",
              "      <th></th>\n",
              "      <th></th>\n",
              "      <th></th>\n",
              "      <th></th>\n",
              "      <th></th>\n",
              "      <th></th>\n",
              "      <th></th>\n",
              "      <th></th>\n",
              "      <th></th>\n",
              "      <th></th>\n",
              "      <th></th>\n",
              "      <th></th>\n",
              "      <th></th>\n",
              "      <th></th>\n",
              "      <th></th>\n",
              "      <th></th>\n",
              "      <th></th>\n",
              "      <th></th>\n",
              "      <th></th>\n",
              "      <th></th>\n",
              "      <th></th>\n",
              "      <th></th>\n",
              "      <th></th>\n",
              "      <th></th>\n",
              "      <th></th>\n",
              "      <th></th>\n",
              "      <th></th>\n",
              "    </tr>\n",
              "  </thead>\n",
              "  <tbody>\n",
              "    <tr>\n",
              "      <th>7</th>\n",
              "      <td>10</td>\n",
              "      <td>151</td>\n",
              "      <td>708</td>\n",
              "      <td>2</td>\n",
              "      <td>25</td>\n",
              "      <td>8</td>\n",
              "      <td>6</td>\n",
              "      <td>t</td>\n",
              "      <td>r</td>\n",
              "      <td>n</td>\n",
              "      <td>f</td>\n",
              "      <td>q</td>\n",
              "      <td>s</td>\n",
              "      <td>d</td>\n",
              "      <td>False</td>\n",
              "      <td>True</td>\n",
              "      <td>False</td>\n",
              "      <td>False</td>\n",
              "      <td>False</td>\n",
              "      <td>False</td>\n",
              "      <td>True</td>\n",
              "      <td>False</td>\n",
              "      <td>False</td>\n",
              "      <td>False</td>\n",
              "      <td>False</td>\n",
              "      <td>v</td>\n",
              "      <td>1</td>\n",
              "      <td>False</td>\n",
              "      <td>False</td>\n",
              "      <td>False</td>\n",
              "      <td>False</td>\n",
              "      <td>False</td>\n",
              "      <td>False</td>\n",
              "      <td>False</td>\n",
              "      <td>False</td>\n",
              "      <td>False</td>\n",
              "      <td>False</td>\n",
              "      <td>False</td>\n",
              "    </tr>\n",
              "    <tr>\n",
              "      <th>13</th>\n",
              "      <td>9</td>\n",
              "      <td>445</td>\n",
              "      <td>203</td>\n",
              "      <td>1</td>\n",
              "      <td>20</td>\n",
              "      <td>3</td>\n",
              "      <td>3</td>\n",
              "      <td>t</td>\n",
              "      <td>r</td>\n",
              "      <td>n</td>\n",
              "      <td>f</td>\n",
              "      <td>j</td>\n",
              "      <td>s</td>\n",
              "      <td>d</td>\n",
              "      <td>False</td>\n",
              "      <td>True</td>\n",
              "      <td>False</td>\n",
              "      <td>False</td>\n",
              "      <td>False</td>\n",
              "      <td>False</td>\n",
              "      <td>False</td>\n",
              "      <td>False</td>\n",
              "      <td>False</td>\n",
              "      <td>False</td>\n",
              "      <td>False</td>\n",
              "      <td>v</td>\n",
              "      <td>1</td>\n",
              "      <td>False</td>\n",
              "      <td>False</td>\n",
              "      <td>False</td>\n",
              "      <td>False</td>\n",
              "      <td>False</td>\n",
              "      <td>False</td>\n",
              "      <td>False</td>\n",
              "      <td>False</td>\n",
              "      <td>False</td>\n",
              "      <td>False</td>\n",
              "      <td>False</td>\n",
              "    </tr>\n",
              "    <tr>\n",
              "      <th>49</th>\n",
              "      <td>10</td>\n",
              "      <td>760</td>\n",
              "      <td>4087</td>\n",
              "      <td>2</td>\n",
              "      <td>25</td>\n",
              "      <td>2</td>\n",
              "      <td>2</td>\n",
              "      <td>n</td>\n",
              "      <td>r</td>\n",
              "      <td>n</td>\n",
              "      <td>x</td>\n",
              "      <td>q</td>\n",
              "      <td>s</td>\n",
              "      <td>d</td>\n",
              "      <td>False</td>\n",
              "      <td>True</td>\n",
              "      <td>False</td>\n",
              "      <td>False</td>\n",
              "      <td>False</td>\n",
              "      <td>False</td>\n",
              "      <td>True</td>\n",
              "      <td>True</td>\n",
              "      <td>False</td>\n",
              "      <td>False</td>\n",
              "      <td>False</td>\n",
              "      <td>v</td>\n",
              "      <td>0</td>\n",
              "      <td>False</td>\n",
              "      <td>False</td>\n",
              "      <td>False</td>\n",
              "      <td>False</td>\n",
              "      <td>False</td>\n",
              "      <td>False</td>\n",
              "      <td>False</td>\n",
              "      <td>False</td>\n",
              "      <td>False</td>\n",
              "      <td>False</td>\n",
              "      <td>False</td>\n",
              "    </tr>\n",
              "    <tr>\n",
              "      <th>92</th>\n",
              "      <td>26</td>\n",
              "      <td>1023</td>\n",
              "      <td>11319</td>\n",
              "      <td>2</td>\n",
              "      <td>20</td>\n",
              "      <td>5</td>\n",
              "      <td>4</td>\n",
              "      <td>t</td>\n",
              "      <td>r</td>\n",
              "      <td>n</td>\n",
              "      <td>f</td>\n",
              "      <td>q</td>\n",
              "      <td>s</td>\n",
              "      <td>d</td>\n",
              "      <td>False</td>\n",
              "      <td>True</td>\n",
              "      <td>False</td>\n",
              "      <td>False</td>\n",
              "      <td>False</td>\n",
              "      <td>False</td>\n",
              "      <td>True</td>\n",
              "      <td>False</td>\n",
              "      <td>False</td>\n",
              "      <td>False</td>\n",
              "      <td>False</td>\n",
              "      <td>v</td>\n",
              "      <td>1</td>\n",
              "      <td>False</td>\n",
              "      <td>False</td>\n",
              "      <td>False</td>\n",
              "      <td>False</td>\n",
              "      <td>False</td>\n",
              "      <td>False</td>\n",
              "      <td>False</td>\n",
              "      <td>False</td>\n",
              "      <td>False</td>\n",
              "      <td>False</td>\n",
              "      <td>False</td>\n",
              "    </tr>\n",
              "    <tr>\n",
              "      <th>100</th>\n",
              "      <td>4</td>\n",
              "      <td>1202</td>\n",
              "      <td>5735</td>\n",
              "      <td>1</td>\n",
              "      <td>5</td>\n",
              "      <td>2</td>\n",
              "      <td>3</td>\n",
              "      <td>t</td>\n",
              "      <td>u</td>\n",
              "      <td>q</td>\n",
              "      <td>f</td>\n",
              "      <td>j</td>\n",
              "      <td>t</td>\n",
              "      <td>d</td>\n",
              "      <td>False</td>\n",
              "      <td>True</td>\n",
              "      <td>False</td>\n",
              "      <td>False</td>\n",
              "      <td>False</td>\n",
              "      <td>False</td>\n",
              "      <td>False</td>\n",
              "      <td>False</td>\n",
              "      <td>False</td>\n",
              "      <td>False</td>\n",
              "      <td>False</td>\n",
              "      <td>v</td>\n",
              "      <td>1</td>\n",
              "      <td>False</td>\n",
              "      <td>False</td>\n",
              "      <td>False</td>\n",
              "      <td>False</td>\n",
              "      <td>False</td>\n",
              "      <td>False</td>\n",
              "      <td>False</td>\n",
              "      <td>False</td>\n",
              "      <td>False</td>\n",
              "      <td>False</td>\n",
              "      <td>False</td>\n",
              "    </tr>\n",
              "  </tbody>\n",
              "</table>\n",
              "</div>"
            ],
            "text/plain": [
              "             geo_level_1_id  ...  has_secondary_use_other\n",
              "building_id                  ...                         \n",
              "7                        10  ...                    False\n",
              "13                        9  ...                    False\n",
              "49                       10  ...                    False\n",
              "92                       26  ...                    False\n",
              "100                       4  ...                    False\n",
              "\n",
              "[5 rows x 38 columns]"
            ]
          },
          "metadata": {
            "tags": []
          },
          "execution_count": 23
        }
      ]
    },
    {
      "cell_type": "code",
      "metadata": {
        "id": "RE37GVPPrf1a",
        "colab_type": "code",
        "outputId": "6309c082-5c09-4380-c148-aafa16919f36",
        "colab": {
          "base_uri": "https://localhost:8080/",
          "height": 484
        }
      },
      "source": [
        "mergedTrain = trainValue.join(trainLabel)\n",
        "print(\"Damage Levels :\", len(mergedTrain['damage_grade'].unique()))\n",
        "print(mergedTrain[\"damage_grade\"].value_counts())\n",
        "sb.catplot(y = \"damage_grade\", data = mergedTrain, kind = \"count\")"
      ],
      "execution_count": 0,
      "outputs": [
        {
          "output_type": "stream",
          "text": [
            "Damage Levels : 3\n",
            "2    148259\n",
            "3     87218\n",
            "1     25124\n",
            "Name: damage_grade, dtype: int64\n"
          ],
          "name": "stdout"
        },
        {
          "output_type": "execute_result",
          "data": {
            "text/plain": [
              "<seaborn.axisgrid.FacetGrid at 0x7f67f5210320>"
            ]
          },
          "metadata": {
            "tags": []
          },
          "execution_count": 24
        },
        {
          "output_type": "display_data",
          "data": {
            "image/png": "[encoded data removed]",
            "text/plain": [
              "<Figure size 360x360 with 1 Axes>"
            ]
          },
          "metadata": {
            "tags": []
          }
        }
      ]
    },
    {
      "cell_type": "code",
      "metadata": {
        "id": "hdHKAnXiqVV1",
        "colab_type": "code",
        "outputId": "1abe688f-ef40-4f35-b76d-7c4b3cc88971",
        "colab": {
          "base_uri": "https://localhost:8080/",
          "height": 943
        }
      },
      "source": [
        "dmg_corr = pd.DataFrame(mergedTrain[mergedTrain.columns].corr()['damage_grade'].sort_values(ascending=False))\n",
        "dmg_corr = dmg_corr.drop(['damage_grade'])\n",
        "dmg_corr.plot(kind='bar',figsize=(16,12))"
      ],
      "execution_count": 0,
      "outputs": [
        {
          "output_type": "execute_result",
          "data": {
            "text/plain": [
              "<matplotlib.axes._subplots.AxesSubplot at 0x7f67f2466cf8>"
            ]
          },
          "metadata": {
            "tags": []
          },
          "execution_count": 25
        },
        {
          "output_type": "display_data",
          "data": {
            "image/png": "[encoded data removed]",
            "text/plain": [
              "<Figure size 1152x864 with 1 Axes>"
            ]
          },
          "metadata": {
            "tags": []
          }
        }
      ]
    },
    {
      "cell_type": "markdown",
      "metadata": {
        "id": "fRV_dAlZ2EYJ",
        "colab_type": "text"
      },
      "source": [
        "---"
      ]
    },
    {
      "cell_type": "markdown",
      "metadata": {
        "id": "u5cYEOJg18_K",
        "colab_type": "text"
      },
      "source": [
        "We will do some exploration of the features of the data."
      ]
    },
    {
      "cell_type": "markdown",
      "metadata": {
        "id": "Y0lWsGg5niN-",
        "colab_type": "text"
      },
      "source": [
        "First looking at the numeric data."
      ]
    },
    {
      "cell_type": "code",
      "metadata": {
        "id": "J21IY-sI16OL",
        "colab_type": "code",
        "outputId": "a9e4ca67-55d9-41a5-cee4-c112e6cad1c8",
        "colab": {
          "base_uri": "https://localhost:8080/",
          "height": 297
        }
      },
      "source": [
        "trainValue.describe().round(0)"
      ],
      "execution_count": 0,
      "outputs": [
        {
          "output_type": "execute_result",
          "data": {
            "text/html": [
              "<div>\n",
              "<style scoped>\n",
              "    .dataframe tbody tr th:only-of-type {\n",
              "        vertical-align: middle;\n",
              "    }\n",
              "\n",
              "    .dataframe tbody tr th {\n",
              "        vertical-align: top;\n",
              "    }\n",
              "\n",
              "    .dataframe thead th {\n",
              "        text-align: right;\n",
              "    }\n",
              "</style>\n",
              "<table border=\"1\" class=\"dataframe\">\n",
              "  <thead>\n",
              "    <tr style=\"text-align: right;\">\n",
              "      <th></th>\n",
              "      <th>geo_level_1_id</th>\n",
              "      <th>geo_level_2_id</th>\n",
              "      <th>geo_level_3_id</th>\n",
              "      <th>count_floors_pre_eq</th>\n",
              "      <th>age</th>\n",
              "      <th>area_percentage</th>\n",
              "      <th>height_percentage</th>\n",
              "      <th>count_families</th>\n",
              "    </tr>\n",
              "  </thead>\n",
              "  <tbody>\n",
              "    <tr>\n",
              "      <th>count</th>\n",
              "      <td>260601.0</td>\n",
              "      <td>260601.0</td>\n",
              "      <td>260601.0</td>\n",
              "      <td>260601.0</td>\n",
              "      <td>260601.0</td>\n",
              "      <td>260601.0</td>\n",
              "      <td>260601.0</td>\n",
              "      <td>260601.0</td>\n",
              "    </tr>\n",
              "    <tr>\n",
              "      <th>mean</th>\n",
              "      <td>14.0</td>\n",
              "      <td>701.0</td>\n",
              "      <td>6258.0</td>\n",
              "      <td>2.0</td>\n",
              "      <td>27.0</td>\n",
              "      <td>8.0</td>\n",
              "      <td>5.0</td>\n",
              "      <td>1.0</td>\n",
              "    </tr>\n",
              "    <tr>\n",
              "      <th>std</th>\n",
              "      <td>8.0</td>\n",
              "      <td>413.0</td>\n",
              "      <td>3646.0</td>\n",
              "      <td>1.0</td>\n",
              "      <td>74.0</td>\n",
              "      <td>4.0</td>\n",
              "      <td>2.0</td>\n",
              "      <td>0.0</td>\n",
              "    </tr>\n",
              "    <tr>\n",
              "      <th>min</th>\n",
              "      <td>0.0</td>\n",
              "      <td>0.0</td>\n",
              "      <td>0.0</td>\n",
              "      <td>1.0</td>\n",
              "      <td>0.0</td>\n",
              "      <td>1.0</td>\n",
              "      <td>2.0</td>\n",
              "      <td>0.0</td>\n",
              "    </tr>\n",
              "    <tr>\n",
              "      <th>25%</th>\n",
              "      <td>7.0</td>\n",
              "      <td>350.0</td>\n",
              "      <td>3073.0</td>\n",
              "      <td>2.0</td>\n",
              "      <td>10.0</td>\n",
              "      <td>5.0</td>\n",
              "      <td>4.0</td>\n",
              "      <td>1.0</td>\n",
              "    </tr>\n",
              "    <tr>\n",
              "      <th>50%</th>\n",
              "      <td>12.0</td>\n",
              "      <td>702.0</td>\n",
              "      <td>6270.0</td>\n",
              "      <td>2.0</td>\n",
              "      <td>15.0</td>\n",
              "      <td>7.0</td>\n",
              "      <td>5.0</td>\n",
              "      <td>1.0</td>\n",
              "    </tr>\n",
              "    <tr>\n",
              "      <th>75%</th>\n",
              "      <td>21.0</td>\n",
              "      <td>1050.0</td>\n",
              "      <td>9412.0</td>\n",
              "      <td>2.0</td>\n",
              "      <td>30.0</td>\n",
              "      <td>9.0</td>\n",
              "      <td>6.0</td>\n",
              "      <td>1.0</td>\n",
              "    </tr>\n",
              "    <tr>\n",
              "      <th>max</th>\n",
              "      <td>30.0</td>\n",
              "      <td>1427.0</td>\n",
              "      <td>12567.0</td>\n",
              "      <td>9.0</td>\n",
              "      <td>995.0</td>\n",
              "      <td>100.0</td>\n",
              "      <td>32.0</td>\n",
              "      <td>9.0</td>\n",
              "    </tr>\n",
              "  </tbody>\n",
              "</table>\n",
              "</div>"
            ],
            "text/plain": [
              "       geo_level_1_id  geo_level_2_id  ...  height_percentage  count_families\n",
              "count        260601.0        260601.0  ...           260601.0        260601.0\n",
              "mean             14.0           701.0  ...                5.0             1.0\n",
              "std               8.0           413.0  ...                2.0             0.0\n",
              "min               0.0             0.0  ...                2.0             0.0\n",
              "25%               7.0           350.0  ...                4.0             1.0\n",
              "50%              12.0           702.0  ...                5.0             1.0\n",
              "75%              21.0          1050.0  ...                6.0             1.0\n",
              "max              30.0          1427.0  ...               32.0             9.0\n",
              "\n",
              "[8 rows x 8 columns]"
            ]
          },
          "metadata": {
            "tags": []
          },
          "execution_count": 26
        }
      ]
    },
    {
      "cell_type": "code",
      "metadata": {
        "id": "-gBWPSsb16UT",
        "colab_type": "code",
        "outputId": "bf1bb239-b7b2-4e95-8b33-7369640a62f5",
        "colab": {
          "base_uri": "https://localhost:8080/",
          "height": 34
        }
      },
      "source": [
        "sb.pairplot(data = trainValue[['geo_level_1_id','geo_level_2_id', 'geo_level_3_id',\n",
        "                            'count_floors_pre_eq', 'age', 'area_percentage',\n",
        "                            'height_percentage', 'count_families']],\n",
        "            height = 2, aspect = 1)"
      ],
      "execution_count": 0,
      "outputs": [
        {
          "output_type": "execute_result",
          "data": {
            "text/plain": [
              "<seaborn.axisgrid.PairGrid at 0x7f67f2399cc0>"
            ]
          },
          "metadata": {
            "tags": []
          },
          "execution_count": 27
        }
      ]
    },
    {
      "cell_type": "code",
      "metadata": {
        "id": "tiMKYCdl16XN",
        "colab_type": "code",
        "colab": {}
      },
      "source": [
        "f, axes = plt.subplots(1,1, figsize=(10,10))\n",
        "sb.heatmap(data = trainValue[['geo_level_1_id','geo_level_2_id', 'geo_level_3_id',\n",
        "                            'count_floors_pre_eq', 'age', 'area_percentage',\n",
        "                            'height_percentage', 'count_families']].corr(),\n",
        "          cmap = \"RdBu\", annot = True, fmt = \".2f\", annot_kws = {'size': 18},\n",
        "          vmin = -1, vmax = 1)"
      ],
      "execution_count": 0,
      "outputs": []
    },
    {
      "cell_type": "markdown",
      "metadata": {
        "id": "lCJUpSx72O49",
        "colab_type": "text"
      },
      "source": [
        "Here we can see that `count_floors_pre_eq` and `height_percentage` are highly correlated to one another, which is expected as more floors usually correlates to a taller building."
      ]
    },
    {
      "cell_type": "markdown",
      "metadata": {
        "id": "8qm2RG4_2Y-S",
        "colab_type": "text"
      },
      "source": [
        "Hence, we can consider dropping `count_floors_pre_eq` from the our DataFrames before performing Classification.\n"
      ]
    },
    {
      "cell_type": "markdown",
      "metadata": {
        "id": "NbCUlcwloWOE",
        "colab_type": "text"
      },
      "source": [
        "---"
      ]
    },
    {
      "cell_type": "markdown",
      "metadata": {
        "id": "YS2sCZjdoXTX",
        "colab_type": "text"
      },
      "source": [
        "Now plotting the correlations of all non-categorical features and `damage_grade`."
      ]
    },
    {
      "cell_type": "code",
      "metadata": {
        "id": "caVPEdY5ob9v",
        "colab_type": "code",
        "outputId": "e05d53ad-c473-48d9-dd5c-299b607aa2e0",
        "colab": {
          "base_uri": "https://localhost:8080/",
          "height": 1000
        }
      },
      "source": [
        "f, axes = plt.subplots(1,1, figsize=(20,20))\n",
        "sb.heatmap(data = mergedTrain.corr(),\n",
        "          cmap = \"RdBu\", annot = True, fmt = \".2f\", annot_kws = {'size': 10},\n",
        "          vmin = -1, vmax = 1)"
      ],
      "execution_count": 0,
      "outputs": [
        {
          "output_type": "execute_result",
          "data": {
            "text/plain": [
              "<matplotlib.axes._subplots.AxesSubplot at 0x7fe4b2730668>"
            ]
          },
          "metadata": {
            "tags": []
          },
          "execution_count": 72
        },
        {
          "output_type": "display_data",
          "data": {
            "image/png": "[encoded data removed]",
            "text/plain": [
              "<Figure size 1440x1440 with 2 Axes>"
            ]
          },
          "metadata": {
            "tags": []
          }
        }
      ]
    },
    {
      "cell_type": "markdown",
      "metadata": {
        "id": "RqOfD3gaypvB",
        "colab_type": "text"
      },
      "source": [
        "We can see that `has_secondary_use` is highly correlated to `has_secondary_use_agriculture` and `has_secondary_use_hotel`. This means that of the buildings that have secondary use, a high percentage of them was used for agriculture purposes or as a hotel."
      ]
    },
    {
      "cell_type": "markdown",
      "metadata": {
        "id": "hNK2vywhcMWz",
        "colab_type": "text"
      },
      "source": [
        "---\n"
      ]
    },
    {
      "cell_type": "markdown",
      "metadata": {
        "id": "46B27ee1cOXu",
        "colab_type": "text"
      },
      "source": [
        "Now we will take a look at the categorical features."
      ]
    },
    {
      "cell_type": "code",
      "metadata": {
        "id": "l90_mEIuvt4X",
        "colab_type": "code",
        "colab": {}
      },
      "source": [
        "categorical_columns =['land_surface_condition', 'foundation_type', 'roof_type', \n",
        "                   'ground_floor_type', 'other_floor_type', 'position', \n",
        "                   'plan_configuration', 'legal_ownership_status']"
      ],
      "execution_count": 0,
      "outputs": []
    },
    {
      "cell_type": "code",
      "metadata": {
        "id": "5VMAwKIBabef",
        "colab_type": "code",
        "outputId": "628be0fe-111e-4ef1-cf09-983263421c6a",
        "colab": {
          "base_uri": "https://localhost:8080/",
          "height": 1000
        }
      },
      "source": [
        "f, axes = f, axes = plt.subplots(4,2, figsize=(20,20))\n",
        "i=0;\n",
        "for each in categorical_columns:\n",
        "  sb.countplot(y = each, data = mergedTrain, ax=axes[i//2,i%2])\n",
        "  i += 1"
      ],
      "execution_count": 0,
      "outputs": [
        {
          "output_type": "display_data",
          "data": {
            "image/png": "[encoded data removed]",
            "text/plain": [
              "<Figure size 1440x1440 with 8 Axes>"
            ]
          },
          "metadata": {
            "tags": []
          }
        }
      ]
    },
    {
      "cell_type": "code",
      "metadata": {
        "id": "6sbIaG5kaa-G",
        "colab_type": "code",
        "outputId": "83592c48-0b13-44ce-9d31-cd845b9650eb",
        "colab": {
          "base_uri": "https://localhost:8080/",
          "height": 1000
        }
      },
      "source": [
        "for each in categorical_columns:\n",
        "  print( each + \":\", len(mergedTrain[each].unique()))\n",
        "  print(mergedTrain[each].value_counts())\n",
        "  print()"
      ],
      "execution_count": 0,
      "outputs": [
        {
          "output_type": "stream",
          "text": [
            "land_surface_condition: 3\n",
            "t    216757\n",
            "n     35528\n",
            "o      8316\n",
            "Name: land_surface_condition, dtype: int64\n",
            "\n",
            "foundation_type: 5\n",
            "r    219196\n",
            "w     15118\n",
            "u     14260\n",
            "i     10579\n",
            "h      1448\n",
            "Name: foundation_type, dtype: int64\n",
            "\n",
            "roof_type: 3\n",
            "n    182842\n",
            "q     61576\n",
            "x     16183\n",
            "Name: roof_type, dtype: int64\n",
            "\n",
            "ground_floor_type: 5\n",
            "f    209619\n",
            "x     24877\n",
            "v     24593\n",
            "z      1004\n",
            "m       508\n",
            "Name: ground_floor_type, dtype: int64\n",
            "\n",
            "other_floor_type: 4\n",
            "q    165282\n",
            "x     43448\n",
            "j     39843\n",
            "s     12028\n",
            "Name: other_floor_type, dtype: int64\n",
            "\n",
            "position: 4\n",
            "s    202090\n",
            "t     42896\n",
            "j     13282\n",
            "o      2333\n",
            "Name: position, dtype: int64\n",
            "\n",
            "plan_configuration: 10\n",
            "d    250072\n",
            "q      5692\n",
            "u      3649\n",
            "s       346\n",
            "c       325\n",
            "a       252\n",
            "o       159\n",
            "m        46\n",
            "n        38\n",
            "f        22\n",
            "Name: plan_configuration, dtype: int64\n",
            "\n",
            "legal_ownership_status: 4\n",
            "v    250939\n",
            "a      5512\n",
            "w      2677\n",
            "r      1473\n",
            "Name: legal_ownership_status, dtype: int64\n",
            "\n"
          ],
          "name": "stdout"
        }
      ]
    },
    {
      "cell_type": "markdown",
      "metadata": {
        "id": "urIF6TQZpDW7",
        "colab_type": "text"
      },
      "source": [
        "---"
      ]
    },
    {
      "cell_type": "markdown",
      "metadata": {
        "id": "DOuI4xXautk7",
        "colab_type": "text"
      },
      "source": [
        "To deal with Categorical features, we will perform OneHotEncoding of the Categorical features."
      ]
    },
    {
      "cell_type": "code",
      "metadata": {
        "id": "EzzBOY-aut-U",
        "colab_type": "code",
        "colab": {}
      },
      "source": [
        "from sklearn.preprocessing import OneHotEncoder"
      ],
      "execution_count": 0,
      "outputs": []
    },
    {
      "cell_type": "code",
      "metadata": {
        "id": "1eDBf9WluuE9",
        "colab_type": "code",
        "colab": {}
      },
      "source": [
        "enc = OneHotEncoder(handle_unknown ='ignore')"
      ],
      "execution_count": 0,
      "outputs": []
    },
    {
      "cell_type": "code",
      "metadata": {
        "id": "a2KXPJBTuuLH",
        "colab_type": "code",
        "outputId": "fb360e0e-1883-42ec-fbc4-2aaed1acde3e",
        "colab": {
          "base_uri": "https://localhost:8080/",
          "height": 51
        }
      },
      "source": [
        "enc.fit(trainValue[categorical_columns])"
      ],
      "execution_count": 0,
      "outputs": [
        {
          "output_type": "execute_result",
          "data": {
            "text/plain": [
              "OneHotEncoder(categories='auto', drop=None, dtype=<class 'numpy.float64'>,\n",
              "              handle_unknown='ignore', sparse=True)"
            ]
          },
          "metadata": {
            "tags": []
          },
          "execution_count": 78
        }
      ]
    },
    {
      "cell_type": "code",
      "metadata": {
        "id": "2TDTvWd8uuRe",
        "colab_type": "code",
        "outputId": "aa64c0a2-5427-48d1-bd20-fdde5b095c57",
        "colab": {
          "base_uri": "https://localhost:8080/",
          "height": 153
        }
      },
      "source": [
        "enc.categories_"
      ],
      "execution_count": 0,
      "outputs": [
        {
          "output_type": "execute_result",
          "data": {
            "text/plain": [
              "[array(['n', 'o', 't'], dtype=object),\n",
              " array(['h', 'i', 'r', 'u', 'w'], dtype=object),\n",
              " array(['n', 'q', 'x'], dtype=object),\n",
              " array(['f', 'm', 'v', 'x', 'z'], dtype=object),\n",
              " array(['j', 'q', 's', 'x'], dtype=object),\n",
              " array(['j', 'o', 's', 't'], dtype=object),\n",
              " array(['a', 'c', 'd', 'f', 'm', 'n', 'o', 'q', 's', 'u'], dtype=object),\n",
              " array(['a', 'r', 'v', 'w'], dtype=object)]"
            ]
          },
          "metadata": {
            "tags": []
          },
          "execution_count": 79
        }
      ]
    },
    {
      "cell_type": "code",
      "metadata": {
        "id": "4hzNHSzZvFQU",
        "colab_type": "code",
        "colab": {}
      },
      "source": [
        "oneHotEncoded = pd.DataFrame(enc.transform(trainValue[categorical_columns]).toarray().astype('bool')\n",
        "                                           ).rename( columns = {\n",
        "        0: 'land_surface_condition_n', 1: 'land_surface_condition_o',\n",
        "        2: 'land_surface_condition_t', 3: 'foundation_type_h',\n",
        "        4: 'foundation_type_i', 5: 'foundation_type_r',\n",
        "        6: 'foundation_type_u', 7: 'foundation_type_w',\n",
        "        8: 'roof_type_n', 9: 'roof_type_q',\n",
        "        10: 'roof_type_x', 11: 'ground_floor_type_f',\n",
        "        12: 'ground_floor_type_m', 13: 'ground_floor_type_v',\n",
        "        14: 'ground_floor_type_x', 15: 'ground_floor_type_z',\n",
        "        16: 'other_floor_type_j', 17: 'other_floor_type_q',\n",
        "        18: 'other_floor_type_s', 19: 'other_floor_type_x',\n",
        "        20: 'position_j', 21: 'position_o',\n",
        "        22: 'position_s', 23: 'position_t',\n",
        "        24: 'plan_configuration_a', 25: 'plan_configuration_c',\n",
        "        26: 'plan_configuration_d', 27: 'plan_configuration_f',\n",
        "        28: 'plan_configuration_m', 29: 'plan_configuration_n',\n",
        "        30: 'plan_configuration_o', 31: 'plan_configuration_q',\n",
        "        32: 'plan_configuration_s', 33: 'plan_configuration_u',\n",
        "        34: 'legal_ownership_status_a', 35: 'legal_ownership_status_r',\n",
        "        36: 'legal_ownership_status_v', 37: 'legal_ownership_status_w'\n",
        "})"
      ],
      "execution_count": 0,
      "outputs": []
    },
    {
      "cell_type": "code",
      "metadata": {
        "id": "MoecUfihvFWy",
        "colab_type": "code",
        "outputId": "9e81a0c0-aa36-4534-99a9-172f8f89f9b7",
        "colab": {
          "base_uri": "https://localhost:8080/",
          "height": 224
        }
      },
      "source": [
        "oneHotEncoded.head()"
      ],
      "execution_count": 0,
      "outputs": [
        {
          "output_type": "execute_result",
          "data": {
            "text/html": [
              "<div>\n",
              "<style scoped>\n",
              "    .dataframe tbody tr th:only-of-type {\n",
              "        vertical-align: middle;\n",
              "    }\n",
              "\n",
              "    .dataframe tbody tr th {\n",
              "        vertical-align: top;\n",
              "    }\n",
              "\n",
              "    .dataframe thead th {\n",
              "        text-align: right;\n",
              "    }\n",
              "</style>\n",
              "<table border=\"1\" class=\"dataframe\">\n",
              "  <thead>\n",
              "    <tr style=\"text-align: right;\">\n",
              "      <th></th>\n",
              "      <th>land_surface_condition_n</th>\n",
              "      <th>land_surface_condition_o</th>\n",
              "      <th>land_surface_condition_t</th>\n",
              "      <th>foundation_type_h</th>\n",
              "      <th>foundation_type_i</th>\n",
              "      <th>foundation_type_r</th>\n",
              "      <th>foundation_type_u</th>\n",
              "      <th>foundation_type_w</th>\n",
              "      <th>roof_type_n</th>\n",
              "      <th>roof_type_q</th>\n",
              "      <th>roof_type_x</th>\n",
              "      <th>ground_floor_type_f</th>\n",
              "      <th>ground_floor_type_m</th>\n",
              "      <th>ground_floor_type_v</th>\n",
              "      <th>ground_floor_type_x</th>\n",
              "      <th>ground_floor_type_z</th>\n",
              "      <th>other_floor_type_j</th>\n",
              "      <th>other_floor_type_q</th>\n",
              "      <th>other_floor_type_s</th>\n",
              "      <th>other_floor_type_x</th>\n",
              "      <th>position_j</th>\n",
              "      <th>position_o</th>\n",
              "      <th>position_s</th>\n",
              "      <th>position_t</th>\n",
              "      <th>plan_configuration_a</th>\n",
              "      <th>plan_configuration_c</th>\n",
              "      <th>plan_configuration_d</th>\n",
              "      <th>plan_configuration_f</th>\n",
              "      <th>plan_configuration_m</th>\n",
              "      <th>plan_configuration_n</th>\n",
              "      <th>plan_configuration_o</th>\n",
              "      <th>plan_configuration_q</th>\n",
              "      <th>plan_configuration_s</th>\n",
              "      <th>plan_configuration_u</th>\n",
              "      <th>legal_ownership_status_a</th>\n",
              "      <th>legal_ownership_status_r</th>\n",
              "      <th>legal_ownership_status_v</th>\n",
              "      <th>legal_ownership_status_w</th>\n",
              "    </tr>\n",
              "  </thead>\n",
              "  <tbody>\n",
              "    <tr>\n",
              "      <th>0</th>\n",
              "      <td>False</td>\n",
              "      <td>False</td>\n",
              "      <td>True</td>\n",
              "      <td>False</td>\n",
              "      <td>False</td>\n",
              "      <td>True</td>\n",
              "      <td>False</td>\n",
              "      <td>False</td>\n",
              "      <td>True</td>\n",
              "      <td>False</td>\n",
              "      <td>False</td>\n",
              "      <td>True</td>\n",
              "      <td>False</td>\n",
              "      <td>False</td>\n",
              "      <td>False</td>\n",
              "      <td>False</td>\n",
              "      <td>True</td>\n",
              "      <td>False</td>\n",
              "      <td>False</td>\n",
              "      <td>False</td>\n",
              "      <td>False</td>\n",
              "      <td>False</td>\n",
              "      <td>True</td>\n",
              "      <td>False</td>\n",
              "      <td>False</td>\n",
              "      <td>False</td>\n",
              "      <td>True</td>\n",
              "      <td>False</td>\n",
              "      <td>False</td>\n",
              "      <td>False</td>\n",
              "      <td>False</td>\n",
              "      <td>False</td>\n",
              "      <td>False</td>\n",
              "      <td>False</td>\n",
              "      <td>False</td>\n",
              "      <td>False</td>\n",
              "      <td>True</td>\n",
              "      <td>False</td>\n",
              "    </tr>\n",
              "    <tr>\n",
              "      <th>1</th>\n",
              "      <td>False</td>\n",
              "      <td>False</td>\n",
              "      <td>True</td>\n",
              "      <td>False</td>\n",
              "      <td>False</td>\n",
              "      <td>True</td>\n",
              "      <td>False</td>\n",
              "      <td>False</td>\n",
              "      <td>True</td>\n",
              "      <td>False</td>\n",
              "      <td>False</td>\n",
              "      <td>True</td>\n",
              "      <td>False</td>\n",
              "      <td>False</td>\n",
              "      <td>False</td>\n",
              "      <td>False</td>\n",
              "      <td>False</td>\n",
              "      <td>True</td>\n",
              "      <td>False</td>\n",
              "      <td>False</td>\n",
              "      <td>False</td>\n",
              "      <td>False</td>\n",
              "      <td>True</td>\n",
              "      <td>False</td>\n",
              "      <td>False</td>\n",
              "      <td>False</td>\n",
              "      <td>True</td>\n",
              "      <td>False</td>\n",
              "      <td>False</td>\n",
              "      <td>False</td>\n",
              "      <td>False</td>\n",
              "      <td>False</td>\n",
              "      <td>False</td>\n",
              "      <td>False</td>\n",
              "      <td>False</td>\n",
              "      <td>False</td>\n",
              "      <td>True</td>\n",
              "      <td>False</td>\n",
              "    </tr>\n",
              "    <tr>\n",
              "      <th>2</th>\n",
              "      <td>False</td>\n",
              "      <td>True</td>\n",
              "      <td>False</td>\n",
              "      <td>False</td>\n",
              "      <td>False</td>\n",
              "      <td>True</td>\n",
              "      <td>False</td>\n",
              "      <td>False</td>\n",
              "      <td>False</td>\n",
              "      <td>True</td>\n",
              "      <td>False</td>\n",
              "      <td>True</td>\n",
              "      <td>False</td>\n",
              "      <td>False</td>\n",
              "      <td>False</td>\n",
              "      <td>False</td>\n",
              "      <td>False</td>\n",
              "      <td>True</td>\n",
              "      <td>False</td>\n",
              "      <td>False</td>\n",
              "      <td>False</td>\n",
              "      <td>False</td>\n",
              "      <td>True</td>\n",
              "      <td>False</td>\n",
              "      <td>False</td>\n",
              "      <td>False</td>\n",
              "      <td>True</td>\n",
              "      <td>False</td>\n",
              "      <td>False</td>\n",
              "      <td>False</td>\n",
              "      <td>False</td>\n",
              "      <td>False</td>\n",
              "      <td>False</td>\n",
              "      <td>False</td>\n",
              "      <td>False</td>\n",
              "      <td>False</td>\n",
              "      <td>True</td>\n",
              "      <td>False</td>\n",
              "    </tr>\n",
              "    <tr>\n",
              "      <th>3</th>\n",
              "      <td>True</td>\n",
              "      <td>False</td>\n",
              "      <td>False</td>\n",
              "      <td>False</td>\n",
              "      <td>False</td>\n",
              "      <td>True</td>\n",
              "      <td>False</td>\n",
              "      <td>False</td>\n",
              "      <td>True</td>\n",
              "      <td>False</td>\n",
              "      <td>False</td>\n",
              "      <td>True</td>\n",
              "      <td>False</td>\n",
              "      <td>False</td>\n",
              "      <td>False</td>\n",
              "      <td>False</td>\n",
              "      <td>False</td>\n",
              "      <td>True</td>\n",
              "      <td>False</td>\n",
              "      <td>False</td>\n",
              "      <td>False</td>\n",
              "      <td>False</td>\n",
              "      <td>True</td>\n",
              "      <td>False</td>\n",
              "      <td>False</td>\n",
              "      <td>False</td>\n",
              "      <td>True</td>\n",
              "      <td>False</td>\n",
              "      <td>False</td>\n",
              "      <td>False</td>\n",
              "      <td>False</td>\n",
              "      <td>False</td>\n",
              "      <td>False</td>\n",
              "      <td>False</td>\n",
              "      <td>False</td>\n",
              "      <td>False</td>\n",
              "      <td>True</td>\n",
              "      <td>False</td>\n",
              "    </tr>\n",
              "    <tr>\n",
              "      <th>4</th>\n",
              "      <td>False</td>\n",
              "      <td>False</td>\n",
              "      <td>True</td>\n",
              "      <td>False</td>\n",
              "      <td>False</td>\n",
              "      <td>True</td>\n",
              "      <td>False</td>\n",
              "      <td>False</td>\n",
              "      <td>True</td>\n",
              "      <td>False</td>\n",
              "      <td>False</td>\n",
              "      <td>True</td>\n",
              "      <td>False</td>\n",
              "      <td>False</td>\n",
              "      <td>False</td>\n",
              "      <td>False</td>\n",
              "      <td>False</td>\n",
              "      <td>True</td>\n",
              "      <td>False</td>\n",
              "      <td>False</td>\n",
              "      <td>False</td>\n",
              "      <td>True</td>\n",
              "      <td>False</td>\n",
              "      <td>False</td>\n",
              "      <td>False</td>\n",
              "      <td>False</td>\n",
              "      <td>True</td>\n",
              "      <td>False</td>\n",
              "      <td>False</td>\n",
              "      <td>False</td>\n",
              "      <td>False</td>\n",
              "      <td>False</td>\n",
              "      <td>False</td>\n",
              "      <td>False</td>\n",
              "      <td>False</td>\n",
              "      <td>False</td>\n",
              "      <td>True</td>\n",
              "      <td>False</td>\n",
              "    </tr>\n",
              "  </tbody>\n",
              "</table>\n",
              "</div>"
            ],
            "text/plain": [
              "   land_surface_condition_n  ...  legal_ownership_status_w\n",
              "0                     False  ...                     False\n",
              "1                     False  ...                     False\n",
              "2                     False  ...                     False\n",
              "3                      True  ...                     False\n",
              "4                     False  ...                     False\n",
              "\n",
              "[5 rows x 38 columns]"
            ]
          },
          "metadata": {
            "tags": []
          },
          "execution_count": 81
        }
      ]
    },
    {
      "cell_type": "markdown",
      "metadata": {
        "id": "0D8HJbjHwWjm",
        "colab_type": "text"
      },
      "source": [
        "Need to reindex oneHotEncoded DataFrame to use `building_id` as index."
      ]
    },
    {
      "cell_type": "code",
      "metadata": {
        "id": "JdFCTja3vFkA",
        "colab_type": "code",
        "colab": {}
      },
      "source": [
        "oneHotEncoded = pd.DataFrame(trainValue.reset_index()['building_id']).join(oneHotEncoded).set_index('building_id')"
      ],
      "execution_count": 0,
      "outputs": []
    },
    {
      "cell_type": "code",
      "metadata": {
        "id": "rM8aLusQuuXm",
        "colab_type": "code",
        "outputId": "cc76d315-df9f-4226-84ae-1c71773530f5",
        "colab": {
          "base_uri": "https://localhost:8080/",
          "height": 255
        }
      },
      "source": [
        "oneHotEncoded.head()"
      ],
      "execution_count": 0,
      "outputs": [
        {
          "output_type": "execute_result",
          "data": {
            "text/html": [
              "<div>\n",
              "<style scoped>\n",
              "    .dataframe tbody tr th:only-of-type {\n",
              "        vertical-align: middle;\n",
              "    }\n",
              "\n",
              "    .dataframe tbody tr th {\n",
              "        vertical-align: top;\n",
              "    }\n",
              "\n",
              "    .dataframe thead th {\n",
              "        text-align: right;\n",
              "    }\n",
              "</style>\n",
              "<table border=\"1\" class=\"dataframe\">\n",
              "  <thead>\n",
              "    <tr style=\"text-align: right;\">\n",
              "      <th></th>\n",
              "      <th>land_surface_condition_n</th>\n",
              "      <th>land_surface_condition_o</th>\n",
              "      <th>land_surface_condition_t</th>\n",
              "      <th>foundation_type_h</th>\n",
              "      <th>foundation_type_i</th>\n",
              "      <th>foundation_type_r</th>\n",
              "      <th>foundation_type_u</th>\n",
              "      <th>foundation_type_w</th>\n",
              "      <th>roof_type_n</th>\n",
              "      <th>roof_type_q</th>\n",
              "      <th>roof_type_x</th>\n",
              "      <th>ground_floor_type_f</th>\n",
              "      <th>ground_floor_type_m</th>\n",
              "      <th>ground_floor_type_v</th>\n",
              "      <th>ground_floor_type_x</th>\n",
              "      <th>ground_floor_type_z</th>\n",
              "      <th>other_floor_type_j</th>\n",
              "      <th>other_floor_type_q</th>\n",
              "      <th>other_floor_type_s</th>\n",
              "      <th>other_floor_type_x</th>\n",
              "      <th>position_j</th>\n",
              "      <th>position_o</th>\n",
              "      <th>position_s</th>\n",
              "      <th>position_t</th>\n",
              "      <th>plan_configuration_a</th>\n",
              "      <th>plan_configuration_c</th>\n",
              "      <th>plan_configuration_d</th>\n",
              "      <th>plan_configuration_f</th>\n",
              "      <th>plan_configuration_m</th>\n",
              "      <th>plan_configuration_n</th>\n",
              "      <th>plan_configuration_o</th>\n",
              "      <th>plan_configuration_q</th>\n",
              "      <th>plan_configuration_s</th>\n",
              "      <th>plan_configuration_u</th>\n",
              "      <th>legal_ownership_status_a</th>\n",
              "      <th>legal_ownership_status_r</th>\n",
              "      <th>legal_ownership_status_v</th>\n",
              "      <th>legal_ownership_status_w</th>\n",
              "    </tr>\n",
              "    <tr>\n",
              "      <th>building_id</th>\n",
              "      <th></th>\n",
              "      <th></th>\n",
              "      <th></th>\n",
              "      <th></th>\n",
              "      <th></th>\n",
              "      <th></th>\n",
              "      <th></th>\n",
              "      <th></th>\n",
              "      <th></th>\n",
              "      <th></th>\n",
              "      <th></th>\n",
              "      <th></th>\n",
              "      <th></th>\n",
              "      <th></th>\n",
              "      <th></th>\n",
              "      <th></th>\n",
              "      <th></th>\n",
              "      <th></th>\n",
              "      <th></th>\n",
              "      <th></th>\n",
              "      <th></th>\n",
              "      <th></th>\n",
              "      <th></th>\n",
              "      <th></th>\n",
              "      <th></th>\n",
              "      <th></th>\n",
              "      <th></th>\n",
              "      <th></th>\n",
              "      <th></th>\n",
              "      <th></th>\n",
              "      <th></th>\n",
              "      <th></th>\n",
              "      <th></th>\n",
              "      <th></th>\n",
              "      <th></th>\n",
              "      <th></th>\n",
              "      <th></th>\n",
              "      <th></th>\n",
              "    </tr>\n",
              "  </thead>\n",
              "  <tbody>\n",
              "    <tr>\n",
              "      <th>4</th>\n",
              "      <td>False</td>\n",
              "      <td>False</td>\n",
              "      <td>True</td>\n",
              "      <td>False</td>\n",
              "      <td>False</td>\n",
              "      <td>True</td>\n",
              "      <td>False</td>\n",
              "      <td>False</td>\n",
              "      <td>True</td>\n",
              "      <td>False</td>\n",
              "      <td>False</td>\n",
              "      <td>True</td>\n",
              "      <td>False</td>\n",
              "      <td>False</td>\n",
              "      <td>False</td>\n",
              "      <td>False</td>\n",
              "      <td>True</td>\n",
              "      <td>False</td>\n",
              "      <td>False</td>\n",
              "      <td>False</td>\n",
              "      <td>False</td>\n",
              "      <td>False</td>\n",
              "      <td>True</td>\n",
              "      <td>False</td>\n",
              "      <td>False</td>\n",
              "      <td>False</td>\n",
              "      <td>True</td>\n",
              "      <td>False</td>\n",
              "      <td>False</td>\n",
              "      <td>False</td>\n",
              "      <td>False</td>\n",
              "      <td>False</td>\n",
              "      <td>False</td>\n",
              "      <td>False</td>\n",
              "      <td>False</td>\n",
              "      <td>False</td>\n",
              "      <td>True</td>\n",
              "      <td>False</td>\n",
              "    </tr>\n",
              "    <tr>\n",
              "      <th>8</th>\n",
              "      <td>False</td>\n",
              "      <td>False</td>\n",
              "      <td>True</td>\n",
              "      <td>False</td>\n",
              "      <td>False</td>\n",
              "      <td>True</td>\n",
              "      <td>False</td>\n",
              "      <td>False</td>\n",
              "      <td>True</td>\n",
              "      <td>False</td>\n",
              "      <td>False</td>\n",
              "      <td>True</td>\n",
              "      <td>False</td>\n",
              "      <td>False</td>\n",
              "      <td>False</td>\n",
              "      <td>False</td>\n",
              "      <td>False</td>\n",
              "      <td>True</td>\n",
              "      <td>False</td>\n",
              "      <td>False</td>\n",
              "      <td>False</td>\n",
              "      <td>False</td>\n",
              "      <td>True</td>\n",
              "      <td>False</td>\n",
              "      <td>False</td>\n",
              "      <td>False</td>\n",
              "      <td>True</td>\n",
              "      <td>False</td>\n",
              "      <td>False</td>\n",
              "      <td>False</td>\n",
              "      <td>False</td>\n",
              "      <td>False</td>\n",
              "      <td>False</td>\n",
              "      <td>False</td>\n",
              "      <td>False</td>\n",
              "      <td>False</td>\n",
              "      <td>True</td>\n",
              "      <td>False</td>\n",
              "    </tr>\n",
              "    <tr>\n",
              "      <th>12</th>\n",
              "      <td>False</td>\n",
              "      <td>True</td>\n",
              "      <td>False</td>\n",
              "      <td>False</td>\n",
              "      <td>False</td>\n",
              "      <td>True</td>\n",
              "      <td>False</td>\n",
              "      <td>False</td>\n",
              "      <td>False</td>\n",
              "      <td>True</td>\n",
              "      <td>False</td>\n",
              "      <td>True</td>\n",
              "      <td>False</td>\n",
              "      <td>False</td>\n",
              "      <td>False</td>\n",
              "      <td>False</td>\n",
              "      <td>False</td>\n",
              "      <td>True</td>\n",
              "      <td>False</td>\n",
              "      <td>False</td>\n",
              "      <td>False</td>\n",
              "      <td>False</td>\n",
              "      <td>True</td>\n",
              "      <td>False</td>\n",
              "      <td>False</td>\n",
              "      <td>False</td>\n",
              "      <td>True</td>\n",
              "      <td>False</td>\n",
              "      <td>False</td>\n",
              "      <td>False</td>\n",
              "      <td>False</td>\n",
              "      <td>False</td>\n",
              "      <td>False</td>\n",
              "      <td>False</td>\n",
              "      <td>False</td>\n",
              "      <td>False</td>\n",
              "      <td>True</td>\n",
              "      <td>False</td>\n",
              "    </tr>\n",
              "    <tr>\n",
              "      <th>16</th>\n",
              "      <td>True</td>\n",
              "      <td>False</td>\n",
              "      <td>False</td>\n",
              "      <td>False</td>\n",
              "      <td>False</td>\n",
              "      <td>True</td>\n",
              "      <td>False</td>\n",
              "      <td>False</td>\n",
              "      <td>True</td>\n",
              "      <td>False</td>\n",
              "      <td>False</td>\n",
              "      <td>True</td>\n",
              "      <td>False</td>\n",
              "      <td>False</td>\n",
              "      <td>False</td>\n",
              "      <td>False</td>\n",
              "      <td>False</td>\n",
              "      <td>True</td>\n",
              "      <td>False</td>\n",
              "      <td>False</td>\n",
              "      <td>False</td>\n",
              "      <td>False</td>\n",
              "      <td>True</td>\n",
              "      <td>False</td>\n",
              "      <td>False</td>\n",
              "      <td>False</td>\n",
              "      <td>True</td>\n",
              "      <td>False</td>\n",
              "      <td>False</td>\n",
              "      <td>False</td>\n",
              "      <td>False</td>\n",
              "      <td>False</td>\n",
              "      <td>False</td>\n",
              "      <td>False</td>\n",
              "      <td>False</td>\n",
              "      <td>False</td>\n",
              "      <td>True</td>\n",
              "      <td>False</td>\n",
              "    </tr>\n",
              "    <tr>\n",
              "      <th>17</th>\n",
              "      <td>False</td>\n",
              "      <td>False</td>\n",
              "      <td>True</td>\n",
              "      <td>False</td>\n",
              "      <td>False</td>\n",
              "      <td>True</td>\n",
              "      <td>False</td>\n",
              "      <td>False</td>\n",
              "      <td>True</td>\n",
              "      <td>False</td>\n",
              "      <td>False</td>\n",
              "      <td>True</td>\n",
              "      <td>False</td>\n",
              "      <td>False</td>\n",
              "      <td>False</td>\n",
              "      <td>False</td>\n",
              "      <td>False</td>\n",
              "      <td>True</td>\n",
              "      <td>False</td>\n",
              "      <td>False</td>\n",
              "      <td>False</td>\n",
              "      <td>True</td>\n",
              "      <td>False</td>\n",
              "      <td>False</td>\n",
              "      <td>False</td>\n",
              "      <td>False</td>\n",
              "      <td>True</td>\n",
              "      <td>False</td>\n",
              "      <td>False</td>\n",
              "      <td>False</td>\n",
              "      <td>False</td>\n",
              "      <td>False</td>\n",
              "      <td>False</td>\n",
              "      <td>False</td>\n",
              "      <td>False</td>\n",
              "      <td>False</td>\n",
              "      <td>True</td>\n",
              "      <td>False</td>\n",
              "    </tr>\n",
              "  </tbody>\n",
              "</table>\n",
              "</div>"
            ],
            "text/plain": [
              "             land_surface_condition_n  ...  legal_ownership_status_w\n",
              "building_id                            ...                          \n",
              "4                               False  ...                     False\n",
              "8                               False  ...                     False\n",
              "12                              False  ...                     False\n",
              "16                               True  ...                     False\n",
              "17                              False  ...                     False\n",
              "\n",
              "[5 rows x 38 columns]"
            ]
          },
          "metadata": {
            "tags": []
          },
          "execution_count": 83
        }
      ]
    },
    {
      "cell_type": "markdown",
      "metadata": {
        "id": "k_eGR13_xQr8",
        "colab_type": "text"
      },
      "source": [
        "We will use this DataFrame in later parts."
      ]
    },
    {
      "cell_type": "markdown",
      "metadata": {
        "id": "enIMA-1Auuoi",
        "colab_type": "text"
      },
      "source": [
        "---"
      ]
    },
    {
      "cell_type": "markdown",
      "metadata": {
        "id": "qYouwUJtpE02",
        "colab_type": "text"
      },
      "source": [
        "Here we will find out which features to remove from our Datasets before performing Classification."
      ]
    },
    {
      "cell_type": "markdown",
      "metadata": {
        "id": "xyTwCJP_pRIE",
        "colab_type": "text"
      },
      "source": [
        "For our model, we will be using sklearn's RandomForestClassifier.\n",
        "For deciding which features to remove, we will be using sklearn's Recursive Feature Elimination."
      ]
    },
    {
      "cell_type": "code",
      "metadata": {
        "id": "aFDLlWijtuFm",
        "colab_type": "code",
        "colab": {}
      },
      "source": [
        "from sklearn.model_selection import train_test_split\n",
        "from sklearn.ensemble import RandomForestClassifier\n",
        "from sklearn.ensemble import RandomForestRegressor\n",
        "from sklearn.feature_selection import RFE"
      ],
      "execution_count": 0,
      "outputs": []
    },
    {
      "cell_type": "code",
      "metadata": {
        "id": "O0a1iMZ1tuKZ",
        "colab_type": "code",
        "colab": {}
      },
      "source": [
        "trainValueModified = trainValue.drop(categorical_columns, axis=1)"
      ],
      "execution_count": 0,
      "outputs": []
    },
    {
      "cell_type": "markdown",
      "metadata": {
        "id": "omQrQSLyxnP_",
        "colab_type": "text"
      },
      "source": [
        "First we consider all the non-Categorical features.\n",
        "Hence we will drop all Categorical features."
      ]
    },
    {
      "cell_type": "markdown",
      "metadata": {
        "id": "HwhraeN-0b4i",
        "colab_type": "text"
      },
      "source": [
        "The next step will take minutes to run."
      ]
    },
    {
      "cell_type": "code",
      "metadata": {
        "id": "QwgMN8x2uEb4",
        "colab_type": "code",
        "colab": {}
      },
      "source": [
        "forest = RandomForestClassifier(n_estimators=50, max_depth=20, n_jobs=-1)\n",
        "\n",
        "selector = RFE(forest, 10, step=1)\n",
        "selector = selector.fit(trainValueModified, trainLabel.values.ravel())"
      ],
      "execution_count": 0,
      "outputs": []
    },
    {
      "cell_type": "code",
      "metadata": {
        "id": "ooRDXqZJuEeG",
        "colab_type": "code",
        "outputId": "4d87c0b6-d5ef-4f14-b812-2729f1b99f7b",
        "colab": {
          "base_uri": "https://localhost:8080/",
          "height": 51
        }
      },
      "source": [
        "selector.ranking_"
      ],
      "execution_count": 0,
      "outputs": [
        {
          "output_type": "execute_result",
          "data": {
            "text/plain": [
              "array([ 1,  1,  1,  1,  1,  1,  1,  5,  1,  8, 11,  7,  1,  2,  9,  6,  3,\n",
              "       13,  1,  4, 10, 12, 14, 17, 18, 16, 19, 20, 21, 15])"
            ]
          },
          "metadata": {
            "tags": []
          },
          "execution_count": 87
        }
      ]
    },
    {
      "cell_type": "code",
      "metadata": {
        "id": "dH_HJcPizHSu",
        "colab_type": "code",
        "outputId": "b38aeefc-c596-4bd3-d8de-d1cd7a9dad99",
        "colab": {
          "base_uri": "https://localhost:8080/",
          "height": 187
        }
      },
      "source": [
        "columns_to_keep = [trainValueModified.columns[i] for i in range(len(trainValueModified.columns)) if list(selector.support_)[i]]\n",
        "for each in columns_to_keep:\n",
        "  print(each)"
      ],
      "execution_count": 0,
      "outputs": [
        {
          "output_type": "stream",
          "text": [
            "geo_level_1_id\n",
            "geo_level_2_id\n",
            "geo_level_3_id\n",
            "count_floors_pre_eq\n",
            "age\n",
            "area_percentage\n",
            "height_percentage\n",
            "has_superstructure_mud_mortar_stone\n",
            "has_superstructure_cement_mortar_brick\n",
            "count_families\n"
          ],
          "name": "stdout"
        }
      ]
    },
    {
      "cell_type": "markdown",
      "metadata": {
        "id": "DpfLi7UZp-s1",
        "colab_type": "text"
      },
      "source": [
        "The above features are the features to be kept based on their importance determined by RFE."
      ]
    },
    {
      "cell_type": "code",
      "metadata": {
        "id": "HdoUAeE_yzLG",
        "colab_type": "code",
        "outputId": "31ad9922-057d-44d6-edf8-8893209690ce",
        "colab": {
          "base_uri": "https://localhost:8080/",
          "height": 357
        }
      },
      "source": [
        "columns_to_drop_rank = { list(selector.ranking_)[i]: trainValueModified.columns[i] for i in range(len(trainValueModified.columns)) if list(selector.ranking_)[i] != 1}\n",
        "for i in range(len(columns_to_drop_rank)):\n",
        "  print(i+2, columns_to_drop_rank[i+2])"
      ],
      "execution_count": 0,
      "outputs": [
        {
          "output_type": "stream",
          "text": [
            "2 has_superstructure_timber\n",
            "3 has_superstructure_rc_engineered\n",
            "4 has_secondary_use\n",
            "5 has_superstructure_adobe_mud\n",
            "6 has_superstructure_rc_non_engineered\n",
            "7 has_superstructure_mud_mortar_brick\n",
            "8 has_superstructure_stone_flag\n",
            "9 has_superstructure_bamboo\n",
            "10 has_secondary_use_agriculture\n",
            "11 has_superstructure_cement_mortar_stone\n",
            "12 has_secondary_use_hotel\n",
            "13 has_superstructure_other\n",
            "14 has_secondary_use_rental\n",
            "15 has_secondary_use_other\n",
            "16 has_secondary_use_industry\n",
            "17 has_secondary_use_institution\n",
            "18 has_secondary_use_school\n",
            "19 has_secondary_use_health_post\n",
            "20 has_secondary_use_gov_office\n",
            "21 has_secondary_use_use_police\n"
          ],
          "name": "stdout"
        }
      ]
    },
    {
      "cell_type": "markdown",
      "metadata": {
        "id": "CpjOz4TSqEbB",
        "colab_type": "text"
      },
      "source": [
        "The above features are the features to be dropped and are ranked based on their importance determined by RFE"
      ]
    },
    {
      "cell_type": "code",
      "metadata": {
        "id": "P_rOId3mzIep",
        "colab_type": "code",
        "outputId": "402ed90b-4f3e-4da8-9944-d669bc8dd20a",
        "colab": {
          "base_uri": "https://localhost:8080/",
          "height": 255
        }
      },
      "source": [
        "trainValueModified = trainValueModified[columns_to_keep]\n",
        "trainValueModified.head()"
      ],
      "execution_count": 0,
      "outputs": [
        {
          "output_type": "execute_result",
          "data": {
            "text/html": [
              "<div>\n",
              "<style scoped>\n",
              "    .dataframe tbody tr th:only-of-type {\n",
              "        vertical-align: middle;\n",
              "    }\n",
              "\n",
              "    .dataframe tbody tr th {\n",
              "        vertical-align: top;\n",
              "    }\n",
              "\n",
              "    .dataframe thead th {\n",
              "        text-align: right;\n",
              "    }\n",
              "</style>\n",
              "<table border=\"1\" class=\"dataframe\">\n",
              "  <thead>\n",
              "    <tr style=\"text-align: right;\">\n",
              "      <th></th>\n",
              "      <th>geo_level_1_id</th>\n",
              "      <th>geo_level_2_id</th>\n",
              "      <th>geo_level_3_id</th>\n",
              "      <th>count_floors_pre_eq</th>\n",
              "      <th>age</th>\n",
              "      <th>area_percentage</th>\n",
              "      <th>height_percentage</th>\n",
              "      <th>has_superstructure_mud_mortar_stone</th>\n",
              "      <th>has_superstructure_cement_mortar_brick</th>\n",
              "      <th>count_families</th>\n",
              "    </tr>\n",
              "    <tr>\n",
              "      <th>building_id</th>\n",
              "      <th></th>\n",
              "      <th></th>\n",
              "      <th></th>\n",
              "      <th></th>\n",
              "      <th></th>\n",
              "      <th></th>\n",
              "      <th></th>\n",
              "      <th></th>\n",
              "      <th></th>\n",
              "      <th></th>\n",
              "    </tr>\n",
              "  </thead>\n",
              "  <tbody>\n",
              "    <tr>\n",
              "      <th>4</th>\n",
              "      <td>30</td>\n",
              "      <td>266</td>\n",
              "      <td>1224</td>\n",
              "      <td>1</td>\n",
              "      <td>25</td>\n",
              "      <td>5</td>\n",
              "      <td>2</td>\n",
              "      <td>True</td>\n",
              "      <td>False</td>\n",
              "      <td>0</td>\n",
              "    </tr>\n",
              "    <tr>\n",
              "      <th>8</th>\n",
              "      <td>17</td>\n",
              "      <td>409</td>\n",
              "      <td>12182</td>\n",
              "      <td>2</td>\n",
              "      <td>0</td>\n",
              "      <td>13</td>\n",
              "      <td>7</td>\n",
              "      <td>True</td>\n",
              "      <td>False</td>\n",
              "      <td>1</td>\n",
              "    </tr>\n",
              "    <tr>\n",
              "      <th>12</th>\n",
              "      <td>17</td>\n",
              "      <td>716</td>\n",
              "      <td>7056</td>\n",
              "      <td>2</td>\n",
              "      <td>5</td>\n",
              "      <td>12</td>\n",
              "      <td>6</td>\n",
              "      <td>True</td>\n",
              "      <td>False</td>\n",
              "      <td>1</td>\n",
              "    </tr>\n",
              "    <tr>\n",
              "      <th>16</th>\n",
              "      <td>4</td>\n",
              "      <td>651</td>\n",
              "      <td>105</td>\n",
              "      <td>2</td>\n",
              "      <td>80</td>\n",
              "      <td>5</td>\n",
              "      <td>4</td>\n",
              "      <td>True</td>\n",
              "      <td>False</td>\n",
              "      <td>1</td>\n",
              "    </tr>\n",
              "    <tr>\n",
              "      <th>17</th>\n",
              "      <td>3</td>\n",
              "      <td>1387</td>\n",
              "      <td>3909</td>\n",
              "      <td>5</td>\n",
              "      <td>40</td>\n",
              "      <td>5</td>\n",
              "      <td>10</td>\n",
              "      <td>False</td>\n",
              "      <td>False</td>\n",
              "      <td>1</td>\n",
              "    </tr>\n",
              "  </tbody>\n",
              "</table>\n",
              "</div>"
            ],
            "text/plain": [
              "             geo_level_1_id  ...  count_families\n",
              "building_id                  ...                \n",
              "4                        30  ...               0\n",
              "8                        17  ...               1\n",
              "12                       17  ...               1\n",
              "16                        4  ...               1\n",
              "17                        3  ...               1\n",
              "\n",
              "[5 rows x 10 columns]"
            ]
          },
          "metadata": {
            "tags": []
          },
          "execution_count": 90
        }
      ]
    },
    {
      "cell_type": "markdown",
      "metadata": {
        "id": "X8HrynBJzAcv",
        "colab_type": "text"
      },
      "source": [
        "Now we will add the One Hot Encoded Categorical features and perform RFE again to see if any of the categorical features are important."
      ]
    },
    {
      "cell_type": "code",
      "metadata": {
        "id": "eT52X5Tj3P3Z",
        "colab_type": "code",
        "colab": {}
      },
      "source": [
        "trainValueModified = trainValueModified.join(oneHotEncoded)"
      ],
      "execution_count": 0,
      "outputs": []
    },
    {
      "cell_type": "code",
      "metadata": {
        "id": "PdySyxNd3Z1c",
        "colab_type": "code",
        "outputId": "0b0ec6f3-3e61-4555-e1fc-c24dd4abd97b",
        "colab": {
          "base_uri": "https://localhost:8080/",
          "height": 255
        }
      },
      "source": [
        "trainValueModified.head()"
      ],
      "execution_count": 0,
      "outputs": [
        {
          "output_type": "execute_result",
          "data": {
            "text/html": [
              "<div>\n",
              "<style scoped>\n",
              "    .dataframe tbody tr th:only-of-type {\n",
              "        vertical-align: middle;\n",
              "    }\n",
              "\n",
              "    .dataframe tbody tr th {\n",
              "        vertical-align: top;\n",
              "    }\n",
              "\n",
              "    .dataframe thead th {\n",
              "        text-align: right;\n",
              "    }\n",
              "</style>\n",
              "<table border=\"1\" class=\"dataframe\">\n",
              "  <thead>\n",
              "    <tr style=\"text-align: right;\">\n",
              "      <th></th>\n",
              "      <th>geo_level_1_id</th>\n",
              "      <th>geo_level_2_id</th>\n",
              "      <th>geo_level_3_id</th>\n",
              "      <th>count_floors_pre_eq</th>\n",
              "      <th>age</th>\n",
              "      <th>area_percentage</th>\n",
              "      <th>height_percentage</th>\n",
              "      <th>has_superstructure_mud_mortar_stone</th>\n",
              "      <th>has_superstructure_cement_mortar_brick</th>\n",
              "      <th>count_families</th>\n",
              "      <th>land_surface_condition_n</th>\n",
              "      <th>land_surface_condition_o</th>\n",
              "      <th>land_surface_condition_t</th>\n",
              "      <th>foundation_type_h</th>\n",
              "      <th>foundation_type_i</th>\n",
              "      <th>foundation_type_r</th>\n",
              "      <th>foundation_type_u</th>\n",
              "      <th>foundation_type_w</th>\n",
              "      <th>roof_type_n</th>\n",
              "      <th>roof_type_q</th>\n",
              "      <th>roof_type_x</th>\n",
              "      <th>ground_floor_type_f</th>\n",
              "      <th>ground_floor_type_m</th>\n",
              "      <th>ground_floor_type_v</th>\n",
              "      <th>ground_floor_type_x</th>\n",
              "      <th>ground_floor_type_z</th>\n",
              "      <th>other_floor_type_j</th>\n",
              "      <th>other_floor_type_q</th>\n",
              "      <th>other_floor_type_s</th>\n",
              "      <th>other_floor_type_x</th>\n",
              "      <th>position_j</th>\n",
              "      <th>position_o</th>\n",
              "      <th>position_s</th>\n",
              "      <th>position_t</th>\n",
              "      <th>plan_configuration_a</th>\n",
              "      <th>plan_configuration_c</th>\n",
              "      <th>plan_configuration_d</th>\n",
              "      <th>plan_configuration_f</th>\n",
              "      <th>plan_configuration_m</th>\n",
              "      <th>plan_configuration_n</th>\n",
              "      <th>plan_configuration_o</th>\n",
              "      <th>plan_configuration_q</th>\n",
              "      <th>plan_configuration_s</th>\n",
              "      <th>plan_configuration_u</th>\n",
              "      <th>legal_ownership_status_a</th>\n",
              "      <th>legal_ownership_status_r</th>\n",
              "      <th>legal_ownership_status_v</th>\n",
              "      <th>legal_ownership_status_w</th>\n",
              "    </tr>\n",
              "    <tr>\n",
              "      <th>building_id</th>\n",
              "      <th></th>\n",
              "      <th></th>\n",
              "      <th></th>\n",
              "      <th></th>\n",
              "      <th></th>\n",
              "      <th></th>\n",
              "      <th></th>\n",
              "      <th></th>\n",
              "      <th></th>\n",
              "      <th></th>\n",
              "      <th></th>\n",
              "      <th></th>\n",
              "      <th></th>\n",
              "      <th></th>\n",
              "      <th></th>\n",
              "      <th></th>\n",
              "      <th></th>\n",
              "      <th></th>\n",
              "      <th></th>\n",
              "      <th></th>\n",
              "      <th></th>\n",
              "      <th></th>\n",
              "      <th></th>\n",
              "      <th></th>\n",
              "      <th></th>\n",
              "      <th></th>\n",
              "      <th></th>\n",
              "      <th></th>\n",
              "      <th></th>\n",
              "      <th></th>\n",
              "      <th></th>\n",
              "      <th></th>\n",
              "      <th></th>\n",
              "      <th></th>\n",
              "      <th></th>\n",
              "      <th></th>\n",
              "      <th></th>\n",
              "      <th></th>\n",
              "      <th></th>\n",
              "      <th></th>\n",
              "      <th></th>\n",
              "      <th></th>\n",
              "      <th></th>\n",
              "      <th></th>\n",
              "      <th></th>\n",
              "      <th></th>\n",
              "      <th></th>\n",
              "      <th></th>\n",
              "    </tr>\n",
              "  </thead>\n",
              "  <tbody>\n",
              "    <tr>\n",
              "      <th>4</th>\n",
              "      <td>30</td>\n",
              "      <td>266</td>\n",
              "      <td>1224</td>\n",
              "      <td>1</td>\n",
              "      <td>25</td>\n",
              "      <td>5</td>\n",
              "      <td>2</td>\n",
              "      <td>True</td>\n",
              "      <td>False</td>\n",
              "      <td>0</td>\n",
              "      <td>False</td>\n",
              "      <td>False</td>\n",
              "      <td>True</td>\n",
              "      <td>False</td>\n",
              "      <td>False</td>\n",
              "      <td>True</td>\n",
              "      <td>False</td>\n",
              "      <td>False</td>\n",
              "      <td>True</td>\n",
              "      <td>False</td>\n",
              "      <td>False</td>\n",
              "      <td>True</td>\n",
              "      <td>False</td>\n",
              "      <td>False</td>\n",
              "      <td>False</td>\n",
              "      <td>False</td>\n",
              "      <td>True</td>\n",
              "      <td>False</td>\n",
              "      <td>False</td>\n",
              "      <td>False</td>\n",
              "      <td>False</td>\n",
              "      <td>False</td>\n",
              "      <td>True</td>\n",
              "      <td>False</td>\n",
              "      <td>False</td>\n",
              "      <td>False</td>\n",
              "      <td>True</td>\n",
              "      <td>False</td>\n",
              "      <td>False</td>\n",
              "      <td>False</td>\n",
              "      <td>False</td>\n",
              "      <td>False</td>\n",
              "      <td>False</td>\n",
              "      <td>False</td>\n",
              "      <td>False</td>\n",
              "      <td>False</td>\n",
              "      <td>True</td>\n",
              "      <td>False</td>\n",
              "    </tr>\n",
              "    <tr>\n",
              "      <th>8</th>\n",
              "      <td>17</td>\n",
              "      <td>409</td>\n",
              "      <td>12182</td>\n",
              "      <td>2</td>\n",
              "      <td>0</td>\n",
              "      <td>13</td>\n",
              "      <td>7</td>\n",
              "      <td>True</td>\n",
              "      <td>False</td>\n",
              "      <td>1</td>\n",
              "      <td>False</td>\n",
              "      <td>False</td>\n",
              "      <td>True</td>\n",
              "      <td>False</td>\n",
              "      <td>False</td>\n",
              "      <td>True</td>\n",
              "      <td>False</td>\n",
              "      <td>False</td>\n",
              "      <td>True</td>\n",
              "      <td>False</td>\n",
              "      <td>False</td>\n",
              "      <td>True</td>\n",
              "      <td>False</td>\n",
              "      <td>False</td>\n",
              "      <td>False</td>\n",
              "      <td>False</td>\n",
              "      <td>False</td>\n",
              "      <td>True</td>\n",
              "      <td>False</td>\n",
              "      <td>False</td>\n",
              "      <td>False</td>\n",
              "      <td>False</td>\n",
              "      <td>True</td>\n",
              "      <td>False</td>\n",
              "      <td>False</td>\n",
              "      <td>False</td>\n",
              "      <td>True</td>\n",
              "      <td>False</td>\n",
              "      <td>False</td>\n",
              "      <td>False</td>\n",
              "      <td>False</td>\n",
              "      <td>False</td>\n",
              "      <td>False</td>\n",
              "      <td>False</td>\n",
              "      <td>False</td>\n",
              "      <td>False</td>\n",
              "      <td>True</td>\n",
              "      <td>False</td>\n",
              "    </tr>\n",
              "    <tr>\n",
              "      <th>12</th>\n",
              "      <td>17</td>\n",
              "      <td>716</td>\n",
              "      <td>7056</td>\n",
              "      <td>2</td>\n",
              "      <td>5</td>\n",
              "      <td>12</td>\n",
              "      <td>6</td>\n",
              "      <td>True</td>\n",
              "      <td>False</td>\n",
              "      <td>1</td>\n",
              "      <td>False</td>\n",
              "      <td>True</td>\n",
              "      <td>False</td>\n",
              "      <td>False</td>\n",
              "      <td>False</td>\n",
              "      <td>True</td>\n",
              "      <td>False</td>\n",
              "      <td>False</td>\n",
              "      <td>False</td>\n",
              "      <td>True</td>\n",
              "      <td>False</td>\n",
              "      <td>True</td>\n",
              "      <td>False</td>\n",
              "      <td>False</td>\n",
              "      <td>False</td>\n",
              "      <td>False</td>\n",
              "      <td>False</td>\n",
              "      <td>True</td>\n",
              "      <td>False</td>\n",
              "      <td>False</td>\n",
              "      <td>False</td>\n",
              "      <td>False</td>\n",
              "      <td>True</td>\n",
              "      <td>False</td>\n",
              "      <td>False</td>\n",
              "      <td>False</td>\n",
              "      <td>True</td>\n",
              "      <td>False</td>\n",
              "      <td>False</td>\n",
              "      <td>False</td>\n",
              "      <td>False</td>\n",
              "      <td>False</td>\n",
              "      <td>False</td>\n",
              "      <td>False</td>\n",
              "      <td>False</td>\n",
              "      <td>False</td>\n",
              "      <td>True</td>\n",
              "      <td>False</td>\n",
              "    </tr>\n",
              "    <tr>\n",
              "      <th>16</th>\n",
              "      <td>4</td>\n",
              "      <td>651</td>\n",
              "      <td>105</td>\n",
              "      <td>2</td>\n",
              "      <td>80</td>\n",
              "      <td>5</td>\n",
              "      <td>4</td>\n",
              "      <td>True</td>\n",
              "      <td>False</td>\n",
              "      <td>1</td>\n",
              "      <td>True</td>\n",
              "      <td>False</td>\n",
              "      <td>False</td>\n",
              "      <td>False</td>\n",
              "      <td>False</td>\n",
              "      <td>True</td>\n",
              "      <td>False</td>\n",
              "      <td>False</td>\n",
              "      <td>True</td>\n",
              "      <td>False</td>\n",
              "      <td>False</td>\n",
              "      <td>True</td>\n",
              "      <td>False</td>\n",
              "      <td>False</td>\n",
              "      <td>False</td>\n",
              "      <td>False</td>\n",
              "      <td>False</td>\n",
              "      <td>True</td>\n",
              "      <td>False</td>\n",
              "      <td>False</td>\n",
              "      <td>False</td>\n",
              "      <td>False</td>\n",
              "      <td>True</td>\n",
              "      <td>False</td>\n",
              "      <td>False</td>\n",
              "      <td>False</td>\n",
              "      <td>True</td>\n",
              "      <td>False</td>\n",
              "      <td>False</td>\n",
              "      <td>False</td>\n",
              "      <td>False</td>\n",
              "      <td>False</td>\n",
              "      <td>False</td>\n",
              "      <td>False</td>\n",
              "      <td>False</td>\n",
              "      <td>False</td>\n",
              "      <td>True</td>\n",
              "      <td>False</td>\n",
              "    </tr>\n",
              "    <tr>\n",
              "      <th>17</th>\n",
              "      <td>3</td>\n",
              "      <td>1387</td>\n",
              "      <td>3909</td>\n",
              "      <td>5</td>\n",
              "      <td>40</td>\n",
              "      <td>5</td>\n",
              "      <td>10</td>\n",
              "      <td>False</td>\n",
              "      <td>False</td>\n",
              "      <td>1</td>\n",
              "      <td>False</td>\n",
              "      <td>False</td>\n",
              "      <td>True</td>\n",
              "      <td>False</td>\n",
              "      <td>False</td>\n",
              "      <td>True</td>\n",
              "      <td>False</td>\n",
              "      <td>False</td>\n",
              "      <td>True</td>\n",
              "      <td>False</td>\n",
              "      <td>False</td>\n",
              "      <td>True</td>\n",
              "      <td>False</td>\n",
              "      <td>False</td>\n",
              "      <td>False</td>\n",
              "      <td>False</td>\n",
              "      <td>False</td>\n",
              "      <td>True</td>\n",
              "      <td>False</td>\n",
              "      <td>False</td>\n",
              "      <td>False</td>\n",
              "      <td>True</td>\n",
              "      <td>False</td>\n",
              "      <td>False</td>\n",
              "      <td>False</td>\n",
              "      <td>False</td>\n",
              "      <td>True</td>\n",
              "      <td>False</td>\n",
              "      <td>False</td>\n",
              "      <td>False</td>\n",
              "      <td>False</td>\n",
              "      <td>False</td>\n",
              "      <td>False</td>\n",
              "      <td>False</td>\n",
              "      <td>False</td>\n",
              "      <td>False</td>\n",
              "      <td>True</td>\n",
              "      <td>False</td>\n",
              "    </tr>\n",
              "  </tbody>\n",
              "</table>\n",
              "</div>"
            ],
            "text/plain": [
              "             geo_level_1_id  ...  legal_ownership_status_w\n",
              "building_id                  ...                          \n",
              "4                        30  ...                     False\n",
              "8                        17  ...                     False\n",
              "12                       17  ...                     False\n",
              "16                        4  ...                     False\n",
              "17                        3  ...                     False\n",
              "\n",
              "[5 rows x 48 columns]"
            ]
          },
          "metadata": {
            "tags": []
          },
          "execution_count": 92
        }
      ]
    },
    {
      "cell_type": "markdown",
      "metadata": {
        "id": "N0VLq6Y24N1z",
        "colab_type": "text"
      },
      "source": [
        "The next step will take minutes to run."
      ]
    },
    {
      "cell_type": "code",
      "metadata": {
        "id": "VOsbDMvs3v-f",
        "colab_type": "code",
        "colab": {}
      },
      "source": [
        "selector = selector.fit(trainValueModified, trainLabel.values.ravel())"
      ],
      "execution_count": 0,
      "outputs": []
    },
    {
      "cell_type": "code",
      "metadata": {
        "id": "IdZm6G5k4AlT",
        "colab_type": "code",
        "outputId": "1659e8ed-0dbb-406b-a91b-892d78f9e6e1",
        "colab": {
          "base_uri": "https://localhost:8080/",
          "height": 187
        }
      },
      "source": [
        "columns_to_keep = [trainValueModified.columns[i] for i in range(len(trainValueModified.columns)) if list(selector.support_)[i]]\n",
        "for each in columns_to_keep:\n",
        "  print(each)"
      ],
      "execution_count": 0,
      "outputs": [
        {
          "output_type": "stream",
          "text": [
            "geo_level_1_id\n",
            "geo_level_2_id\n",
            "geo_level_3_id\n",
            "count_floors_pre_eq\n",
            "age\n",
            "area_percentage\n",
            "height_percentage\n",
            "has_superstructure_mud_mortar_stone\n",
            "foundation_type_r\n",
            "ground_floor_type_v\n"
          ],
          "name": "stdout"
        }
      ]
    },
    {
      "cell_type": "markdown",
      "metadata": {
        "id": "Yq583qB04JZQ",
        "colab_type": "text"
      },
      "source": [
        "The above features are the features to be kept based on their importance determined by RFE."
      ]
    },
    {
      "cell_type": "code",
      "metadata": {
        "id": "aO-5o_Vy4Itk",
        "colab_type": "code",
        "outputId": "dbb4ea7c-7ff7-4859-c972-664735f8860d",
        "colab": {
          "base_uri": "https://localhost:8080/",
          "height": 663
        }
      },
      "source": [
        "columns_to_drop_rank = { list(selector.ranking_)[i]: trainValueModified.columns[i] for i in range(len(trainValueModified.columns)) if list(selector.ranking_)[i] != 1}\n",
        "for i in range(len(columns_to_drop_rank)):\n",
        "  print(i+2, columns_to_drop_rank[i+2])"
      ],
      "execution_count": 0,
      "outputs": [
        {
          "output_type": "stream",
          "text": [
            "2 count_families\n",
            "3 other_floor_type_q\n",
            "4 roof_type_n\n",
            "5 ground_floor_type_f\n",
            "6 position_s\n",
            "7 has_superstructure_cement_mortar_brick\n",
            "8 land_surface_condition_t\n",
            "9 foundation_type_i\n",
            "10 roof_type_x\n",
            "11 foundation_type_w\n",
            "12 position_t\n",
            "13 plan_configuration_d\n",
            "14 land_surface_condition_n\n",
            "15 roof_type_q\n",
            "16 legal_ownership_status_v\n",
            "17 other_floor_type_x\n",
            "18 ground_floor_type_x\n",
            "19 position_j\n",
            "20 other_floor_type_s\n",
            "21 foundation_type_u\n",
            "22 plan_configuration_q\n",
            "23 other_floor_type_j\n",
            "24 land_surface_condition_o\n",
            "25 legal_ownership_status_a\n",
            "26 plan_configuration_u\n",
            "27 legal_ownership_status_w\n",
            "28 foundation_type_h\n",
            "29 legal_ownership_status_r\n",
            "30 position_o\n",
            "31 ground_floor_type_z\n",
            "32 ground_floor_type_m\n",
            "33 plan_configuration_s\n",
            "34 plan_configuration_c\n",
            "35 plan_configuration_a\n",
            "36 plan_configuration_o\n",
            "37 plan_configuration_n\n",
            "38 plan_configuration_m\n",
            "39 plan_configuration_f\n"
          ],
          "name": "stdout"
        }
      ]
    },
    {
      "cell_type": "markdown",
      "metadata": {
        "id": "WGEtKPy-4NDR",
        "colab_type": "text"
      },
      "source": [
        "The above features are the features to be dropped and are ranked based on their importance determined by RFE"
      ]
    },
    {
      "cell_type": "code",
      "metadata": {
        "id": "3D899woR4I7F",
        "colab_type": "code",
        "outputId": "f5ba351c-0be1-46a4-933a-f831182cb8a9",
        "colab": {
          "base_uri": "https://localhost:8080/",
          "height": 255
        }
      },
      "source": [
        "trainValueModified = trainValueModified[columns_to_keep]\n",
        "trainValueModified.head()"
      ],
      "execution_count": 0,
      "outputs": [
        {
          "output_type": "execute_result",
          "data": {
            "text/html": [
              "<div>\n",
              "<style scoped>\n",
              "    .dataframe tbody tr th:only-of-type {\n",
              "        vertical-align: middle;\n",
              "    }\n",
              "\n",
              "    .dataframe tbody tr th {\n",
              "        vertical-align: top;\n",
              "    }\n",
              "\n",
              "    .dataframe thead th {\n",
              "        text-align: right;\n",
              "    }\n",
              "</style>\n",
              "<table border=\"1\" class=\"dataframe\">\n",
              "  <thead>\n",
              "    <tr style=\"text-align: right;\">\n",
              "      <th></th>\n",
              "      <th>geo_level_1_id</th>\n",
              "      <th>geo_level_2_id</th>\n",
              "      <th>geo_level_3_id</th>\n",
              "      <th>count_floors_pre_eq</th>\n",
              "      <th>age</th>\n",
              "      <th>area_percentage</th>\n",
              "      <th>height_percentage</th>\n",
              "      <th>has_superstructure_mud_mortar_stone</th>\n",
              "      <th>foundation_type_r</th>\n",
              "      <th>ground_floor_type_v</th>\n",
              "    </tr>\n",
              "    <tr>\n",
              "      <th>building_id</th>\n",
              "      <th></th>\n",
              "      <th></th>\n",
              "      <th></th>\n",
              "      <th></th>\n",
              "      <th></th>\n",
              "      <th></th>\n",
              "      <th></th>\n",
              "      <th></th>\n",
              "      <th></th>\n",
              "      <th></th>\n",
              "    </tr>\n",
              "  </thead>\n",
              "  <tbody>\n",
              "    <tr>\n",
              "      <th>4</th>\n",
              "      <td>30</td>\n",
              "      <td>266</td>\n",
              "      <td>1224</td>\n",
              "      <td>1</td>\n",
              "      <td>25</td>\n",
              "      <td>5</td>\n",
              "      <td>2</td>\n",
              "      <td>True</td>\n",
              "      <td>True</td>\n",
              "      <td>False</td>\n",
              "    </tr>\n",
              "    <tr>\n",
              "      <th>8</th>\n",
              "      <td>17</td>\n",
              "      <td>409</td>\n",
              "      <td>12182</td>\n",
              "      <td>2</td>\n",
              "      <td>0</td>\n",
              "      <td>13</td>\n",
              "      <td>7</td>\n",
              "      <td>True</td>\n",
              "      <td>True</td>\n",
              "      <td>False</td>\n",
              "    </tr>\n",
              "    <tr>\n",
              "      <th>12</th>\n",
              "      <td>17</td>\n",
              "      <td>716</td>\n",
              "      <td>7056</td>\n",
              "      <td>2</td>\n",
              "      <td>5</td>\n",
              "      <td>12</td>\n",
              "      <td>6</td>\n",
              "      <td>True</td>\n",
              "      <td>True</td>\n",
              "      <td>False</td>\n",
              "    </tr>\n",
              "    <tr>\n",
              "      <th>16</th>\n",
              "      <td>4</td>\n",
              "      <td>651</td>\n",
              "      <td>105</td>\n",
              "      <td>2</td>\n",
              "      <td>80</td>\n",
              "      <td>5</td>\n",
              "      <td>4</td>\n",
              "      <td>True</td>\n",
              "      <td>True</td>\n",
              "      <td>False</td>\n",
              "    </tr>\n",
              "    <tr>\n",
              "      <th>17</th>\n",
              "      <td>3</td>\n",
              "      <td>1387</td>\n",
              "      <td>3909</td>\n",
              "      <td>5</td>\n",
              "      <td>40</td>\n",
              "      <td>5</td>\n",
              "      <td>10</td>\n",
              "      <td>False</td>\n",
              "      <td>True</td>\n",
              "      <td>False</td>\n",
              "    </tr>\n",
              "  </tbody>\n",
              "</table>\n",
              "</div>"
            ],
            "text/plain": [
              "             geo_level_1_id  ...  ground_floor_type_v\n",
              "building_id                  ...                     \n",
              "4                        30  ...                False\n",
              "8                        17  ...                False\n",
              "12                       17  ...                False\n",
              "16                        4  ...                False\n",
              "17                        3  ...                False\n",
              "\n",
              "[5 rows x 10 columns]"
            ]
          },
          "metadata": {
            "tags": []
          },
          "execution_count": 96
        }
      ]
    },
    {
      "cell_type": "markdown",
      "metadata": {
        "id": "V36tyMwH8mK6",
        "colab_type": "text"
      },
      "source": [
        "Now we will check what the accuracy of our model with this pruned DataFrame."
      ]
    },
    {
      "cell_type": "code",
      "metadata": {
        "id": "vyJ19u4S4T6_",
        "colab_type": "code",
        "colab": {}
      },
      "source": [
        "X_train, X_test, y_train, y_test = train_test_split(trainValueModified, trainLabel, test_size=0.25)"
      ],
      "execution_count": 0,
      "outputs": []
    },
    {
      "cell_type": "code",
      "metadata": {
        "id": "or-bc_jw9LQW",
        "colab_type": "code",
        "outputId": "a8e60505-8fec-44a4-c90b-340fb09cbb70",
        "colab": {
          "base_uri": "https://localhost:8080/",
          "height": 153
        }
      },
      "source": [
        "forest.fit(X_train, y_train.values.ravel())"
      ],
      "execution_count": 0,
      "outputs": [
        {
          "output_type": "execute_result",
          "data": {
            "text/plain": [
              "RandomForestClassifier(bootstrap=True, ccp_alpha=0.0, class_weight=None,\n",
              "                       criterion='gini', max_depth=20, max_features='auto',\n",
              "                       max_leaf_nodes=None, max_samples=None,\n",
              "                       min_impurity_decrease=0.0, min_impurity_split=None,\n",
              "                       min_samples_leaf=1, min_samples_split=2,\n",
              "                       min_weight_fraction_leaf=0.0, n_estimators=50, n_jobs=-1,\n",
              "                       oob_score=False, random_state=None, verbose=0,\n",
              "                       warm_start=False)"
            ]
          },
          "metadata": {
            "tags": []
          },
          "execution_count": 98
        }
      ]
    },
    {
      "cell_type": "code",
      "metadata": {
        "id": "DlZuLaio9uE-",
        "colab_type": "code",
        "outputId": "92dd6ede-6cc8-4b63-dec3-d99ba567c63a",
        "colab": {
          "base_uri": "https://localhost:8080/",
          "height": 34
        }
      },
      "source": [
        "forest.score(X_train, y_train)"
      ],
      "execution_count": 0,
      "outputs": [
        {
          "output_type": "execute_result",
          "data": {
            "text/plain": [
              "0.8517881811204912"
            ]
          },
          "metadata": {
            "tags": []
          },
          "execution_count": 99
        }
      ]
    },
    {
      "cell_type": "code",
      "metadata": {
        "id": "qzhxguhy9vSG",
        "colab_type": "code",
        "outputId": "dc0aae78-fe94-438f-8792-860776892cf5",
        "colab": {
          "base_uri": "https://localhost:8080/",
          "height": 34
        }
      },
      "source": [
        "forest.score(X_test, y_test)"
      ],
      "execution_count": 0,
      "outputs": [
        {
          "output_type": "execute_result",
          "data": {
            "text/plain": [
              "0.7164586882780003"
            ]
          },
          "metadata": {
            "tags": []
          },
          "execution_count": 100
        }
      ]
    },
    {
      "cell_type": "markdown",
      "metadata": {
        "id": "VFNvHs0J97X7",
        "colab_type": "text"
      },
      "source": [
        "---"
      ]
    },
    {
      "cell_type": "markdown",
      "metadata": {
        "id": "_RjEGJb499tx",
        "colab_type": "text"
      },
      "source": [
        "Now, we will analyze the optimal `max_depth` to use for our RandomTreeClassifier."
      ]
    },
    {
      "cell_type": "code",
      "metadata": {
        "id": "IXuP_CiQ9wAX",
        "colab_type": "code",
        "colab": {}
      },
      "source": [
        "train_scores = []\n",
        "test_scores = []\n",
        "range_to_test = range(10,60)\n",
        "for i in range_to_test:\n",
        "    forest = RandomForestClassifier(n_estimators=10, max_depth = i, n_jobs=-1)\n",
        "    forest.fit(X_train, y_train.values.ravel())\n",
        "    train_scores.append(forest.score(X_train, y_train))\n",
        "    test_scores.append(forest.score(X_test, y_test))"
      ],
      "execution_count": 0,
      "outputs": []
    },
    {
      "cell_type": "code",
      "metadata": {
        "id": "7WbXjsyV_1uu",
        "colab_type": "code",
        "outputId": "69e2bbe8-7032-48c1-ce40-a3cc47448e7a",
        "colab": {
          "base_uri": "https://localhost:8080/",
          "height": 339
        }
      },
      "source": [
        "f, axes = plt.subplots(1,2, figsize=(20,5))\n",
        "\n",
        "sb.lineplot(y=train_scores, x=range_to_test, ax = axes[0], label=\"Train\").set(xlabel=\"Max Depth\", ylabel=\"Accuracy\")\n",
        "sb.lineplot(y=test_scores, x=range_to_test, ax = axes[1], label=\"Test\").set(xlabel=\"Max Depth\", ylabel=\"Accuracy\")\n",
        "plt.show()"
      ],
      "execution_count": 0,
      "outputs": [
        {
          "output_type": "display_data",
          "data": {
            "image/png": "[encoded data removed]",
            "text/plain": [
              "<Figure size 1440x360 with 2 Axes>"
            ]
          },
          "metadata": {
            "tags": []
          }
        }
      ]
    },
    {
      "cell_type": "markdown",
      "metadata": {
        "id": "q3ORV27-AMOX",
        "colab_type": "text"
      },
      "source": [
        "It seems that max depth is optimal at around 20. Hence, we will take `max_depth = 20` from here on."
      ]
    },
    {
      "cell_type": "markdown",
      "metadata": {
        "id": "6f6gLek_C_qv",
        "colab_type": "text"
      },
      "source": [
        "Now, we will analyze the optimal `n_estimators` to use for our RandomTreeClassifier."
      ]
    },
    {
      "cell_type": "code",
      "metadata": {
        "id": "hnOS2iWL_2vf",
        "colab_type": "code",
        "colab": {}
      },
      "source": [
        "max_depth = 20"
      ],
      "execution_count": 0,
      "outputs": []
    },
    {
      "cell_type": "markdown",
      "metadata": {
        "id": "eCbtBKwnbQAH",
        "colab_type": "text"
      },
      "source": [
        "This takes very very long to run."
      ]
    },
    {
      "cell_type": "code",
      "metadata": {
        "id": "ep3NUE97DJGQ",
        "colab_type": "code",
        "colab": {}
      },
      "source": [
        "train_scores = []\n",
        "test_scores = []\n",
        "range_to_test = range(10,400,20)\n",
        "for i in range_to_test:\n",
        "    forest = RandomForestClassifier(n_estimators=i, max_depth = max_depth, n_jobs=-1)\n",
        "    forest.fit(X_train, y_train.values.ravel())\n",
        "    train_scores.append(forest.score(X_train, y_train))\n",
        "    test_scores.append(forest.score(X_test, y_test))"
      ],
      "execution_count": 0,
      "outputs": []
    },
    {
      "cell_type": "code",
      "metadata": {
        "id": "4J840LaLDLYw",
        "colab_type": "code",
        "outputId": "77936adc-4477-44fe-91ff-eecfb8b8f404",
        "colab": {
          "base_uri": "https://localhost:8080/",
          "height": 339
        }
      },
      "source": [
        "f, axes = plt.subplots(1,2, figsize=(20,5))\n",
        "\n",
        "sb.lineplot(y=train_scores, x=range_to_test, ax = axes[0], label=\"Train\").set(xlabel=\"Number of Trees\", ylabel=\"Accuracy\")\n",
        "sb.lineplot(y=test_scores, x=range_to_test, ax = axes[1], label=\"Test\").set(xlabel=\"Number of Trees\", ylabel=\"Accuracy\")\n",
        "plt.show()"
      ],
      "execution_count": 0,
      "outputs": [
        {
          "output_type": "display_data",
          "data": {
            "image/png": "[encoded data removed]",
            "text/plain": [
              "<Figure size 1440x360 with 2 Axes>"
            ]
          },
          "metadata": {
            "tags": []
          }
        }
      ]
    },
    {
      "cell_type": "markdown",
      "metadata": {
        "id": "WV-1wDMLbSyE",
        "colab_type": "text"
      },
      "source": [
        "Diminishing returns when number of trees are greater than 100. Hence we will take optimal `n_estimators = 100`."
      ]
    },
    {
      "cell_type": "markdown",
      "metadata": {
        "id": "U5hZbZBbbhCm",
        "colab_type": "text"
      },
      "source": [
        "---\n"
      ]
    },
    {
      "cell_type": "markdown",
      "metadata": {
        "id": "cftbJY-Bbi1B",
        "colab_type": "text"
      },
      "source": [
        "Therefore, we will use RandomForestClassifer with 100 trees and max depth of 20."
      ]
    },
    {
      "cell_type": "code",
      "metadata": {
        "id": "F6iL5JOEDdQv",
        "colab_type": "code",
        "colab": {}
      },
      "source": [
        "forest = RandomForestClassifier(n_estimators=100, max_depth=20, n_jobs=-1)"
      ],
      "execution_count": 0,
      "outputs": []
    },
    {
      "cell_type": "code",
      "metadata": {
        "id": "yH2G2NMHbwj_",
        "colab_type": "code",
        "colab": {}
      },
      "source": [
        "X_train, X_test, y_train, y_test = train_test_split(trainValueModified, trainLabel, test_size=0.25)"
      ],
      "execution_count": 0,
      "outputs": []
    },
    {
      "cell_type": "code",
      "metadata": {
        "id": "z_plO6eUbzTb",
        "colab_type": "code",
        "outputId": "4bc2f5db-8fda-4dd9-d05f-446541f25110",
        "colab": {
          "base_uri": "https://localhost:8080/",
          "height": 153
        }
      },
      "source": [
        "forest.fit(X_train, y_train.values.ravel())"
      ],
      "execution_count": 0,
      "outputs": [
        {
          "output_type": "execute_result",
          "data": {
            "text/plain": [
              "RandomForestClassifier(bootstrap=True, ccp_alpha=0.0, class_weight=None,\n",
              "                       criterion='gini', max_depth=20, max_features='auto',\n",
              "                       max_leaf_nodes=None, max_samples=None,\n",
              "                       min_impurity_decrease=0.0, min_impurity_split=None,\n",
              "                       min_samples_leaf=1, min_samples_split=2,\n",
              "                       min_weight_fraction_leaf=0.0, n_estimators=100,\n",
              "                       n_jobs=-1, oob_score=False, random_state=None, verbose=0,\n",
              "                       warm_start=False)"
            ]
          },
          "metadata": {
            "tags": []
          },
          "execution_count": 121
        }
      ]
    },
    {
      "cell_type": "code",
      "metadata": {
        "id": "T9A-X4H5b2PT",
        "colab_type": "code",
        "outputId": "f387cbe0-34dd-428a-a0cd-e192cc2002e4",
        "colab": {
          "base_uri": "https://localhost:8080/",
          "height": 34
        }
      },
      "source": [
        "forest.score(X_train, y_train)"
      ],
      "execution_count": 0,
      "outputs": [
        {
          "output_type": "execute_result",
          "data": {
            "text/plain": [
              "0.8542900997697621"
            ]
          },
          "metadata": {
            "tags": []
          },
          "execution_count": 122
        }
      ]
    },
    {
      "cell_type": "code",
      "metadata": {
        "id": "idbqkNIkb4ZN",
        "colab_type": "code",
        "outputId": "7ee367df-06d1-43e6-a50a-8ae9015d7ccc",
        "colab": {
          "base_uri": "https://localhost:8080/",
          "height": 34
        }
      },
      "source": [
        "forest.score(X_test, y_test)"
      ],
      "execution_count": 0,
      "outputs": [
        {
          "output_type": "execute_result",
          "data": {
            "text/plain": [
              "0.7178247455910116"
            ]
          },
          "metadata": {
            "tags": []
          },
          "execution_count": 123
        }
      ]
    },
    {
      "cell_type": "markdown",
      "metadata": {
        "id": "uOhhNOJocoNS",
        "colab_type": "text"
      },
      "source": [
        "Now we will plot a confusion matrix to visualise the predictions' accuracy."
      ]
    },
    {
      "cell_type": "code",
      "metadata": {
        "id": "0jGDvwhqdS6p",
        "colab_type": "code",
        "colab": {}
      },
      "source": [
        "from sklearn.metrics import confusion_matrix"
      ],
      "execution_count": 0,
      "outputs": []
    },
    {
      "cell_type": "code",
      "metadata": {
        "id": "h88kqhBLdWJ9",
        "colab_type": "code",
        "colab": {}
      },
      "source": [
        "y_train_predicted = pd.DataFrame(forest.predict(X_train))\n",
        "y_test_predicted = pd.DataFrame(forest.predict(X_test))"
      ],
      "execution_count": 0,
      "outputs": []
    },
    {
      "cell_type": "code",
      "metadata": {
        "id": "myJR5bifcNIh",
        "colab_type": "code",
        "outputId": "72b4526c-7732-40a0-d4d7-e776a34c5e9d",
        "colab": {
          "base_uri": "https://localhost:8080/",
          "height": 411
        }
      },
      "source": [
        "f, axes = plt.subplots(1, 2, figsize=(12, 6))\n",
        "\n",
        "sb.heatmap(confusion_matrix(y_train, y_train_predicted), annot = True, fmt=\".0f\", annot_kws={\"size\": 18}, \n",
        "           ax = axes[0]).set(xlabel= \"Train\")\n",
        "sb.heatmap(confusion_matrix(y_test, y_test_predicted), annot = True, fmt=\".0f\", annot_kws={\"size\": 18}, \n",
        "           ax = axes[1]).set(xlabel= \"Test\")\n"
      ],
      "execution_count": 0,
      "outputs": [
        {
          "output_type": "execute_result",
          "data": {
            "text/plain": [
              "[Text(0.5, 30.5, 'Test')]"
            ]
          },
          "metadata": {
            "tags": []
          },
          "execution_count": 126
        },
        {
          "output_type": "display_data",
          "data": {
            "image/png": "[encoded data removed]",
            "text/plain": [
              "<Figure size 864x432 with 4 Axes>"
            ]
          },
          "metadata": {
            "tags": []
          }
        }
      ]
    },
    {
      "cell_type": "markdown",
      "metadata": {
        "id": "DPyMe9bFeC3e",
        "colab_type": "text"
      },
      "source": [
        "Calculate F1 Score, also known as balanced F-score or F-measure."
      ]
    },
    {
      "cell_type": "code",
      "metadata": {
        "id": "1mnrF52mdiDf",
        "colab_type": "code",
        "colab": {}
      },
      "source": [
        "from sklearn.metrics import f1_score"
      ],
      "execution_count": 0,
      "outputs": []
    },
    {
      "cell_type": "code",
      "metadata": {
        "id": "S-3ogFf0eMXD",
        "colab_type": "code",
        "colab": {}
      },
      "source": [
        "f1_score(y_train, y_train_predicted, average='micro')"
      ],
      "execution_count": 0,
      "outputs": []
    },
    {
      "cell_type": "code",
      "metadata": {
        "id": "2q5w6ndkeVp9",
        "colab_type": "code",
        "colab": {}
      },
      "source": [
        "f1_score(y_test, y_test_predicted, average='micro')"
      ],
      "execution_count": 0,
      "outputs": []
    },
    {
      "cell_type": "markdown",
      "metadata": {
        "id": "Ju8Q6TTxed54",
        "colab_type": "text"
      },
      "source": [
        "Finally, to predict labels for actual test values. First we need to generate the One Hot Encoding for test values' categorical features."
      ]
    },
    {
      "cell_type": "code",
      "metadata": {
        "id": "3gzKJwf5eXkL",
        "colab_type": "code",
        "colab": {}
      },
      "source": [
        "oneHotEncoded_test = pd.DataFrame(enc.transform(testValue[categorical_columns]).toarray().astype('bool')\n",
        "                                           ).rename( columns = {\n",
        "        0: 'land_surface_condition_n', 1: 'land_surface_condition_o',\n",
        "        2: 'land_surface_condition_t', 3: 'foundation_type_h',\n",
        "        4: 'foundation_type_i', 5: 'foundation_type_r',\n",
        "        6: 'foundation_type_u', 7: 'foundation_type_w',\n",
        "        8: 'roof_type_n', 9: 'roof_type_q',\n",
        "        10: 'roof_type_x', 11: 'ground_floor_type_f',\n",
        "        12: 'ground_floor_type_m', 13: 'ground_floor_type_v',\n",
        "        14: 'ground_floor_type_x', 15: 'ground_floor_type_z',\n",
        "        16: 'other_floor_type_j', 17: 'other_floor_type_q',\n",
        "        18: 'other_floor_type_s', 19: 'other_floor_type_x',\n",
        "        20: 'position_j', 21: 'position_o',\n",
        "        22: 'position_s', 23: 'position_t',\n",
        "        24: 'plan_configuration_a', 25: 'plan_configuration_c',\n",
        "        26: 'plan_configuration_d', 27: 'plan_configuration_f',\n",
        "        28: 'plan_configuration_m', 29: 'plan_configuration_n',\n",
        "        30: 'plan_configuration_o', 31: 'plan_configuration_q',\n",
        "        32: 'plan_configuration_s', 33: 'plan_configuration_u',\n",
        "        34: 'legal_ownership_status_a', 35: 'legal_ownership_status_r',\n",
        "        36: 'legal_ownership_status_v', 37: 'legal_ownership_status_w'\n",
        "})"
      ],
      "execution_count": 0,
      "outputs": []
    },
    {
      "cell_type": "code",
      "metadata": {
        "id": "Kh3qhMubfDXH",
        "colab_type": "code",
        "colab": {}
      },
      "source": [
        "oneHotEncoded_test = pd.DataFrame(testValue.reset_index()['building_id']).join(oneHotEncoded_test).set_index('building_id')"
      ],
      "execution_count": 0,
      "outputs": []
    },
    {
      "cell_type": "code",
      "metadata": {
        "id": "d5KOJEbNeuRo",
        "colab_type": "code",
        "colab": {}
      },
      "source": [
        "test_predict = pd.DataFrame(forest.predict( testValue.join(oneHotEncoded_test)[trainValueModified.columns] ), index=testValue.index)"
      ],
      "execution_count": 0,
      "outputs": []
    },
    {
      "cell_type": "code",
      "metadata": {
        "id": "lw8fbalFft6e",
        "colab_type": "code",
        "colab": {}
      },
      "source": [
        "test_predict.set_axis([\"damage_grade\"], axis=1, inplace=True)"
      ],
      "execution_count": 0,
      "outputs": []
    },
    {
      "cell_type": "code",
      "metadata": {
        "id": "eku2qJL9f-0P",
        "colab_type": "code",
        "colab": {}
      },
      "source": [
        "test_predict.head()"
      ],
      "execution_count": 0,
      "outputs": []
    },
    {
      "cell_type": "code",
      "metadata": {
        "id": "qeaxtu1gNH-b",
        "colab_type": "code",
        "colab": {}
      },
      "source": [
        ""
      ],
      "execution_count": 0,
      "outputs": []
    }
  ]
}